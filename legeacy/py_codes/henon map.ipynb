{
 "cells": [
  {
   "cell_type": "code",
   "execution_count": 233,
   "id": "1623a1a9-1c6b-4e45-acbd-1d3cedc85452",
   "metadata": {
    "executionInfo": {
     "elapsed": 2320,
     "status": "ok",
     "timestamp": 1662964760702,
     "user": {
      "displayName": "KATO HIBIKI",
      "userId": "15445130315388485598"
     },
     "user_tz": -540
    },
    "id": "8338c8d5-318b-40ca-a33d-2b95960cd93d",
    "tags": []
   },
   "outputs": [],
   "source": [
    "import numpy as np\n",
    "import matplotlib.pyplot as plt\n",
    "from tqdm import tqdm\n",
    "import math\n",
    "import cmath\n",
    "from numba import njit, f8,i8,c16\n",
    "import numba\n",
    "import matplotlib.animation as animation\n",
    "import copy\n",
    "import matplotlib\n",
    "\n",
    "import sys\n",
    "sys.path.append('../../lb')\n",
    "import RungeKutta_acceralated"
   ]
  },
  {
   "cell_type": "code",
   "execution_count": 404,
   "id": "303e3038-39cd-4a8b-aee3-62d606e8d87c",
   "metadata": {
    "tags": []
   },
   "outputs": [],
   "source": [
    "class Long_laminar:\n",
    "    def __init__(self):\n",
    "        self.arr = None\n",
    "        self.arr = None\n",
    "        self.average = None\n",
    "\n",
    "    #微分方程式を定義\n",
    "    @staticmethod\n",
    "    @njit(cache=True)\n",
    "    def henon(value, A = 3, B = 0.3, C = 5, D = 0.3, k = 0.4):\n",
    "        \"\"\"\n",
    "        エノン写像\n",
    "        \n",
    "        \"\"\"\n",
    "        ddt_u = np.zeros((value.shape[0], 1), dtype = np.float64)\n",
    "        \"\"\"\n",
    "        #微分方程式(4変数)\n",
    "        ddt_u[0,:] = A - value[0,0]**2 + B * value[1,0] + k*(value[0,0] - value[2,0])\n",
    "        ddt_u[1,:] = value[0,0]*1\n",
    "        ddt_u[2,:] = C - value[2,0]**2 + D * value[3,0] + k * (value[2,0] - value[0,0])\n",
    "        ddt_u[3,:] = value[2,0]*1\n",
    "        \"\"\"\n",
    "        #微分方程式(2変数)\n",
    "        a, b = 1.75, 0.3\n",
    "        ddt_u[0,:] = a - (value[0,0] ** 2) + b * value[1,0]\n",
    "        ddt_u[1,:] = value[0,0]\n",
    "        return ddt_u\n",
    "    \n",
    "    #摂動()を与える　*時間は入れない*\n",
    "    @staticmethod\n",
    "    @njit(cache=True)\n",
    "    def perturbator(array):\n",
    "        a = -1\n",
    "        b = -16\n",
    "        s = (b - a) * np.random.rand() + a\n",
    "        \n",
    "        u = (2 * np.random.rand(array.shape[0],1) - 1) #本体は掛けない\n",
    "        \n",
    "        u_scaled = u / np.linalg.norm(u)\n",
    "        \n",
    "        return u_scaled * (10 ** s)  + array\n",
    "\n",
    "\n",
    "    @staticmethod\n",
    "    #@njit(cache=True)\n",
    "    def get_arr_wrapped(func, period, start):\n",
    "        \"\"\" \n",
    "        ある時点から指定秒数走らせる\n",
    "        \"\"\" \n",
    "        arr = np.zeros((len(start[:,0])+1, period[1]+1),dtype=np.float64) #入れ物を作る\n",
    "        n = period[0]\n",
    "        arr[:-1,0:1] = start\n",
    "        for i in range(period[1]): #ここのfor文でルンゲクッタ実行\n",
    "            arr[:-1,i+1:i+2]=func(arr[:-1,i:i+1])\n",
    "            n += 1\n",
    "            arr[-1,i+1] = n\n",
    "        return arr\n",
    "    \n",
    "    def get_arr(self, period, start):\n",
    "        return Long_laminar.get_arr_wrapped(Long_laminar.henon, period, start)\n",
    "            \n",
    "    @staticmethod\n",
    "    @njit(cache=True)\n",
    "    def judge_laminar_for_a_while(func, check, progress, start):\n",
    "        \"\"\" \n",
    "        ある時点から指定秒数走らせて、ラミナーに入っているかどうか指定秒を返す\n",
    "        *startにはtが入ってる*\n",
    "        \"\"\" \n",
    "        arr = np.zeros((start.shape[0], check+1),dtype=np.float64) #入れ物を作る\n",
    "        n = start[-1,0]\n",
    "        arr[:,0:1] = start\n",
    "        for i in range(check): #ここのfor文でルンゲクッタ実行\n",
    "            arr[:-1,i+1:i+2]=func(arr[:-1,i:i+1])\n",
    "            n += 1\n",
    "            arr[-1,i+1] = n\n",
    "        \n",
    "\n",
    "        if not (-4 < np.min(arr[:-1,:]) and np.max(arr[:-1,:])< 4):\n",
    "\n",
    "            zero = np.zeros((len(arr[:,0]), progress+1), dtype = np.float64)\n",
    "            return zero #ダメだったらゼロ行列を返す(numbaを使う上でreturnの型を統一しなければならない)\n",
    "        \n",
    "        return arr[:,:progress+1] #初期点も返す\n",
    "    \n",
    "    @staticmethod\n",
    "    #@njit\n",
    "    def get_laminar_wrapped(start, period, function, judge_laminar_for_a_while, perturbator, check, progress):\n",
    "        dimention = len(start) #変数の次元\n",
    "        \n",
    "        arr = np.zeros((dimention+1,period[1]+1),dtype = np.float64) #器を作る\n",
    "        arr[:-1,0:1] = start\n",
    "        arr[-1,0] = period[0]\n",
    "        i=0 #イテレーター\n",
    "        perturbated_time = []\n",
    "        \n",
    "        while abs(arr[-1,-1]) == 0:\n",
    "            dummy = judge_laminar_for_a_while(function, check, progress, arr[:,i:i+1])\n",
    "            if not dummy[0,0] == 0:\n",
    "                arr[:,i:i+len(dummy[0,:])] = dummy\n",
    "                i += len(dummy[0,:]) - 1 #イテレータを次の初期値(今回の最後)まで持ってく\n",
    "                print(dummy[:-1,-1])\n",
    "            else:\n",
    "                perturbated_time.append(abs(arr[-1,i]))\n",
    "                counter = 0 #摂動を加えた回数のカウンター\n",
    "                while True:\n",
    "                    #摂動を加えた点pertubatedを作る\n",
    "                    perturbated = arr[:,i:i+1].copy() #最終地点をコピってくる\n",
    "                    counter += 1\n",
    "                    if counter % 1E+5 == 0:\n",
    "                        print(f\"\\r 摂動回数{counter}\", end =\"\")\n",
    "                    perturbated[:-1,:] = perturbator(perturbated[:-1,:]) #摂動を与える\n",
    "                    dummy = judge_laminar_for_a_while(function, check, progress, arr[:,i:i+1])\n",
    "                    if not dummy[-1,-1] == 0:\n",
    "                        arr[:,i:i+len(dummy[0,:])] = dummy\n",
    "                        i += len(dummy[0,:]) - 1 #イテレータを次の初期値(今回の最後)まで持ってく\n",
    "                        print(dummy[:-1,-1],counter)\n",
    "                        break\n",
    "        return arr, perturbated_time\n",
    "    def get_laminar(self, start, period, check, progress):\n",
    "        self.arr, self.perturbated_time = Long_laminar.get_laminar_wrapped(start, period, Long_laminar.henon, Long_laminar.judge_laminar_for_a_while, Long_laminar.perturbator, check, progress)"
   ]
  },
  {
   "cell_type": "code",
   "execution_count": 336,
   "id": "8c99cad9-ac87-443e-81ad-ae3f47b38e3b",
   "metadata": {
    "executionInfo": {
     "elapsed": 46,
     "status": "ok",
     "timestamp": 1662965704473,
     "user": {
      "displayName": "KATO HIBIKI",
      "userId": "15445130315388485598"
     },
     "user_tz": -540
    },
    "id": "d9ea2405-1940-4c01-9d1b-51d9a0143e95"
   },
   "outputs": [],
   "source": [
    "runge_para = {\n",
    "    'start' :  np.array([[0.9799609517046892], [1.0157131516544733]]),\n",
    "    'period' : np.array([0,100])\n",
    "}"
   ]
  },
  {
   "cell_type": "code",
   "execution_count": 369,
   "id": "bbd814c9-1606-4856-a30f-e2f74e3547bf",
   "metadata": {
    "tags": []
   },
   "outputs": [],
   "source": [
    "runge_para['start'] = np.array([[1.1186466536503064], [0.4810534949735467]])"
   ]
  },
  {
   "cell_type": "code",
   "execution_count": 199,
   "id": "e651f4c9-c949-4f22-b0e9-749f2b579cd9",
   "metadata": {},
   "outputs": [],
   "source": [
    "@njit(cache = True)\n",
    "def inspecter(arr):\n",
    "    for i in range(len(arr[0,:])):\n",
    "        if not (-4 < np.min(arr[:-1,i]) and np.max(arr[:-1, i]) < 4):\n",
    "            return arr[-1, i] - 1\n",
    "    return arr[-1,-1]"
   ]
  },
  {
   "cell_type": "code",
   "execution_count": 325,
   "id": "0af374d1-33aa-4445-9d02-9e7799c2b984",
   "metadata": {},
   "outputs": [],
   "source": [
    "np.set_printoptions(precision=16)"
   ]
  },
  {
   "cell_type": "code",
   "execution_count": 399,
   "id": "dfc4c9ed-9949-4723-b261-993c3b43a132",
   "metadata": {
    "tags": []
   },
   "outputs": [
    {
     "name": "stdout",
     "output_type": "stream",
     "text": [
      "最大89.0,[[ 1.5233410577484938]\n",
      " [-0.8534186453374502]]\n",
      "最大89.0,[[ 1.5233410577484938]\n",
      " [-0.8534186453374502]]\n",
      "最大89.0,[[ 1.5233410577484938]\n",
      " [-0.8534186453374502]]\n",
      "最大89.0,[[ 1.5233410577484938]\n",
      " [-0.8534186453374502]]\n",
      "最大89.0,[[ 1.5233410577484938]\n",
      " [-0.8534186453374502]]\n"
     ]
    }
   ],
   "source": [
    "#初期値を生成&最高成績のもので更新\n",
    "candidates = 1000\n",
    "starts = np.zeros((len(runge_para['start'][:,0]),candidates))\n",
    "for _ in range(5):\n",
    "    starts[:,0:1] = runge_para['start']\n",
    "    for i in range(candidates - 1):\n",
    "        starts[:,i+1:i+2] = Long_laminar.perturbator(runge_para[\"start\"])\n",
    "    lmodel = Long_laminar()\n",
    "\n",
    "    times = np.zeros(candidates)\n",
    "\n",
    "    for i in range(candidates):\n",
    "        runge_para[\"start\"] = starts[:, i:i+1]\n",
    "        arr = lmodel.get_arr(**runge_para)\n",
    "        times[i] = inspecter(arr)\n",
    "    runge_para['start'] = starts[:,np.argmax(times):np.argmax(times)+1]\n",
    "    print(f'最大{np.max(times)},{runge_para[\"start\"]}')\n",
    "    if max(times) > runge_para[\"period\"][1] * 0.99:\n",
    "        break"
   ]
  },
  {
   "cell_type": "code",
   "execution_count": 65,
   "id": "8c9c94ab-b2fb-40bc-a339-e9257ac87573",
   "metadata": {
    "collapsed": true,
    "jupyter": {
     "outputs_hidden": true
    },
    "tags": []
   },
   "outputs": [
    {
     "name": "stderr",
     "output_type": "stream",
     "text": [
      " 27%|█████████▏                        | 27082/100000 [00:14<00:39, 1829.11it/s]"
     ]
    },
    {
     "name": "stdout",
     "output_type": "stream",
     "text": [
      "[[ 1.63804616]\n",
      " [ 2.236243  ]\n",
      " [ 1.49218797]\n",
      " [-2.45351339]]\n"
     ]
    },
    {
     "name": "stderr",
     "output_type": "stream",
     "text": [
      "100%|█████████████████████████████████| 100000/100000 [00:57<00:00, 1732.56it/s]\n"
     ]
    }
   ],
   "source": [
    "#初期値を生成\n",
    "#-2以上2未満の一様分布\n",
    "runge_para['period'][1] = 10\n",
    "candidates = 100000\n",
    "starts = 8 * np.random.rand(len(runge_para['start'][:,0]), candidates) -4\n",
    "lmodel = Long_laminar()\n",
    "\n",
    "for i in tqdm(range(candidates)):\n",
    "    runge_para[\"start\"] = starts[:, i:i+1]\n",
    "    arr = lmodel.get_arr(**runge_para)\n",
    "    \n",
    "    if -4 < np.min(arr[:-1,:]) and np.max(arr[:-1,:]) < 4:\n",
    "        print(runge_para[\"start\"])"
   ]
  },
  {
   "cell_type": "code",
   "execution_count": 403,
   "id": "3188ad28-19dd-47e0-825e-ec33a3a2ca2a",
   "metadata": {},
   "outputs": [
    {
     "data": {
      "text/plain": [
       "<Figure size 1920x1440 with 0 Axes>"
      ]
     },
     "metadata": {},
     "output_type": "display_data"
    }
   ],
   "source": [
    "#コンテスト\n",
    "plt.figure(dpi=300)\n",
    "candidates = 2000\n",
    "runge_para['period'][1] = 93\n",
    "\n",
    "starts = np.zeros((len(runge_para['start'][:,0]),candidates))\n",
    "starts[:,0:1] = runge_para['start']\n",
    "for i in range(candidates - 1):\n",
    "    starts[:,i+1:i+2] = Long_laminar.perturbator(runge_para[\"start\"])\n",
    "lmodel = Long_laminar()\n",
    "\n",
    "times = np.zeros(candidates)\n",
    "\n",
    "count = 0\n",
    "\n",
    "for i in range(candidates):\n",
    "    runge_para[\"start\"] = starts[:, i:i+1]\n",
    "    arr = lmodel.get_arr(**runge_para)\n",
    "    if  (-4 < np.min(arr[:-1,:]) and np.max(arr[:-1,:])< 4):\n",
    "        #プロット\n",
    "        ax1 = plt.subplot(2,1,1)\n",
    "        ax1.plot(arr[-1,:],arr[0,:],lw=0.5)\n",
    "        ax2 = plt.subplot(2,1,2)\n",
    "        ax2.plot(arr[-1,:],arr[1,:],lw=0.5)\n",
    "    else:\n",
    "        count += 1\n",
    "runge_para['start'] = starts[:,0:1]"
   ]
  },
  {
   "cell_type": "code",
   "execution_count": 400,
   "id": "c6d37034-79fa-48f5-aac1-c40077268012",
   "metadata": {
    "tags": []
   },
   "outputs": [
    {
     "data": {
      "text/plain": [
       "1675"
      ]
     },
     "execution_count": 400,
     "metadata": {},
     "output_type": "execute_result"
    }
   ],
   "source": [
    "count"
   ]
  },
  {
   "cell_type": "markdown",
   "id": "b0457062-2f3e-4f44-a1c1-0f803cabd542",
   "metadata": {},
   "source": [
    "# ラミナーに留まる"
   ]
  },
  {
   "cell_type": "code",
   "execution_count": 405,
   "id": "29345217-fd7e-4d7c-9186-489aae36179f",
   "metadata": {
    "tags": []
   },
   "outputs": [
    {
     "name": "stdout",
     "output_type": "stream",
     "text": [
      "[-0.8265935718235351  1.5233410577484938]\n",
      "[ 1.5237453843445583 -0.8265935718235351]\n",
      "[-0.8197780678584063  1.5237453843445583]\n",
      "[ 1.5350875347617057 -0.8197780678584063]\n",
      "[-0.8524271597382926  1.5350875347617057]\n",
      "[ 1.483894197769019  -0.8524271597382926]\n",
      "[-0.7076701380940483  1.483894197769019 ]\n",
      "[ 1.6943712349806561 -0.7076701380940483]\n",
      "[-1.3331949233580882  1.6943712349806561]\n",
      "[ 0.4809026668264182 -1.3331949233580882]\n",
      "[1.1187741480318125 0.4809026668264182]\n",
      "[0.6426152057436175 1.1187741480318125]\n",
      "[1.672677941756632  0.6426152057436175]\n",
      "[-0.8550669351161175  1.672677941756632 ]\n",
      "[ 1.5206639189981188 -0.8550669351161175]\n",
      "[-0.8189388350775526  1.5206639189981188]\n",
      "[ 1.5355383601012567 -0.8189388350775526]\n",
      "[-0.8535597058657225  1.5355383601012567]\n",
      "[ 1.482097336552798  -0.8535597058657225]\n",
      "[-0.7026804267766147  1.482097336552798 ]\n",
      "[ 1.7008694187908742 -0.7026804267766147]\n",
      "[-1.3537609078109905  1.7008694187908742]\n",
      "[ 0.4275922301200252 -1.3537609078109905]\n",
      "[1.1610366123976863 0.4275922301200252]\n",
      "[0.5302716537081124 1.1610366123976863]\n",
      "[1.8171229569929697 0.5302716537081124]\n",
      "[-1.39285434471844    1.8171229569929697]\n",
      "[ 0.355093661496856 -1.39285434471844 ]\n",
      "[1.2060521881492243 0.355093661496856 ]\n",
      "[0.4019662179095248 1.2060521881492243]\n",
      " 摂動回数89400000"
     ]
    },
    {
     "ename": "KeyboardInterrupt",
     "evalue": "",
     "output_type": "error",
     "traceback": [
      "\u001b[0;31m---------------------------------------------------------------------------\u001b[0m",
      "\u001b[0;31mKeyboardInterrupt\u001b[0m                         Traceback (most recent call last)",
      "File \u001b[0;32m<timed exec>:8\u001b[0m\n",
      "Cell \u001b[0;32mIn[404], line 120\u001b[0m, in \u001b[0;36mLong_laminar.get_laminar\u001b[0;34m(self, start, period, check, progress)\u001b[0m\n\u001b[1;32m    119\u001b[0m \u001b[38;5;28;01mdef\u001b[39;00m \u001b[38;5;21mget_laminar\u001b[39m(\u001b[38;5;28mself\u001b[39m, start, period, check, progress):\n\u001b[0;32m--> 120\u001b[0m     \u001b[38;5;28mself\u001b[39m\u001b[38;5;241m.\u001b[39marr, \u001b[38;5;28mself\u001b[39m\u001b[38;5;241m.\u001b[39mperturbated_time \u001b[38;5;241m=\u001b[39m \u001b[43mLong_laminar\u001b[49m\u001b[38;5;241;43m.\u001b[39;49m\u001b[43mget_laminar_wrapped\u001b[49m\u001b[43m(\u001b[49m\u001b[43mstart\u001b[49m\u001b[43m,\u001b[49m\u001b[43m \u001b[49m\u001b[43mperiod\u001b[49m\u001b[43m,\u001b[49m\u001b[43m \u001b[49m\u001b[43mLong_laminar\u001b[49m\u001b[38;5;241;43m.\u001b[39;49m\u001b[43mhenon\u001b[49m\u001b[43m,\u001b[49m\u001b[43m \u001b[49m\u001b[43mLong_laminar\u001b[49m\u001b[38;5;241;43m.\u001b[39;49m\u001b[43mjudge_laminar_for_a_while\u001b[49m\u001b[43m,\u001b[49m\u001b[43m \u001b[49m\u001b[43mLong_laminar\u001b[49m\u001b[38;5;241;43m.\u001b[39;49m\u001b[43mperturbator\u001b[49m\u001b[43m,\u001b[49m\u001b[43m \u001b[49m\u001b[43mcheck\u001b[49m\u001b[43m,\u001b[49m\u001b[43m \u001b[49m\u001b[43mprogress\u001b[49m\u001b[43m)\u001b[49m\n",
      "Cell \u001b[0;32mIn[404], line 112\u001b[0m, in \u001b[0;36mLong_laminar.get_laminar_wrapped\u001b[0;34m(start, period, function, judge_laminar_for_a_while, perturbator, check, progress)\u001b[0m\n\u001b[1;32m    110\u001b[0m     \u001b[38;5;28mprint\u001b[39m(\u001b[38;5;124mf\u001b[39m\u001b[38;5;124m\"\u001b[39m\u001b[38;5;130;01m\\r\u001b[39;00m\u001b[38;5;124m 摂動回数\u001b[39m\u001b[38;5;132;01m{\u001b[39;00mcounter\u001b[38;5;132;01m}\u001b[39;00m\u001b[38;5;124m\"\u001b[39m, end \u001b[38;5;241m=\u001b[39m\u001b[38;5;124m\"\u001b[39m\u001b[38;5;124m\"\u001b[39m)\n\u001b[1;32m    111\u001b[0m perturbated[:\u001b[38;5;241m-\u001b[39m\u001b[38;5;241m1\u001b[39m,:] \u001b[38;5;241m=\u001b[39m perturbator(perturbated[:\u001b[38;5;241m-\u001b[39m\u001b[38;5;241m1\u001b[39m,:]) \u001b[38;5;66;03m#摂動を与える\u001b[39;00m\n\u001b[0;32m--> 112\u001b[0m dummy \u001b[38;5;241m=\u001b[39m \u001b[43mjudge_laminar_for_a_while\u001b[49m\u001b[43m(\u001b[49m\u001b[43mfunction\u001b[49m\u001b[43m,\u001b[49m\u001b[43m \u001b[49m\u001b[43mcheck\u001b[49m\u001b[43m,\u001b[49m\u001b[43m \u001b[49m\u001b[43mprogress\u001b[49m\u001b[43m,\u001b[49m\u001b[43m \u001b[49m\u001b[43marr\u001b[49m\u001b[43m[\u001b[49m\u001b[43m:\u001b[49m\u001b[43m,\u001b[49m\u001b[43mi\u001b[49m\u001b[43m:\u001b[49m\u001b[43mi\u001b[49m\u001b[38;5;241;43m+\u001b[39;49m\u001b[38;5;241;43m1\u001b[39;49m\u001b[43m]\u001b[49m\u001b[43m)\u001b[49m\n\u001b[1;32m    113\u001b[0m \u001b[38;5;28;01mif\u001b[39;00m \u001b[38;5;129;01mnot\u001b[39;00m dummy[\u001b[38;5;241m-\u001b[39m\u001b[38;5;241m1\u001b[39m,\u001b[38;5;241m-\u001b[39m\u001b[38;5;241m1\u001b[39m] \u001b[38;5;241m==\u001b[39m \u001b[38;5;241m0\u001b[39m:\n\u001b[1;32m    114\u001b[0m     arr[:,i:i\u001b[38;5;241m+\u001b[39m\u001b[38;5;28mlen\u001b[39m(dummy[\u001b[38;5;241m0\u001b[39m,:])] \u001b[38;5;241m=\u001b[39m dummy\n",
      "File \u001b[0;32m~/miniforge3/lib/python3.10/site-packages/numba/core/serialize.py:29\u001b[0m, in \u001b[0;36m_numba_unpickle\u001b[0;34m(address, bytedata, hashed)\u001b[0m\n\u001b[1;32m     25\u001b[0m \u001b[38;5;66;03m# Keep unpickled object via `numba_unpickle` alive.\u001b[39;00m\n\u001b[1;32m     26\u001b[0m _unpickled_memo \u001b[38;5;241m=\u001b[39m {}\n\u001b[0;32m---> 29\u001b[0m \u001b[38;5;28;01mdef\u001b[39;00m \u001b[38;5;21m_numba_unpickle\u001b[39m(address, bytedata, hashed):\n\u001b[1;32m     30\u001b[0m \u001b[38;5;250m    \u001b[39m\u001b[38;5;124;03m\"\"\"Used by `numba_unpickle` from _helperlib.c\u001b[39;00m\n\u001b[1;32m     31\u001b[0m \n\u001b[1;32m     32\u001b[0m \u001b[38;5;124;03m    Parameters\u001b[39;00m\n\u001b[0;32m   (...)\u001b[0m\n\u001b[1;32m     41\u001b[0m \u001b[38;5;124;03m        unpickled object\u001b[39;00m\n\u001b[1;32m     42\u001b[0m \u001b[38;5;124;03m    \"\"\"\u001b[39;00m\n\u001b[1;32m     43\u001b[0m     key \u001b[38;5;241m=\u001b[39m (address, hashed)\n",
      "\u001b[0;31mKeyboardInterrupt\u001b[0m: "
     ]
    }
   ],
   "source": [
    "%%time\n",
    "runge_para[\"period\"]=np.array([0,100])\n",
    "\n",
    "#刻み幅\n",
    "check = 60\n",
    "progress = 1\n",
    "\n",
    "lmodel = Long_laminar()\n",
    "lmodel.get_laminar(**runge_para, check = check, progress = progress)"
   ]
  },
  {
   "cell_type": "code",
   "execution_count": 143,
   "id": "003b70ef-e923-481b-ac5e-d75f0ec82a3d",
   "metadata": {
    "tags": []
   },
   "outputs": [
    {
     "ename": "TypeError",
     "evalue": "'NoneType' object is not subscriptable",
     "output_type": "error",
     "traceback": [
      "\u001b[0;31m---------------------------------------------------------------------------\u001b[0m",
      "\u001b[0;31mTypeError\u001b[0m                                 Traceback (most recent call last)",
      "Cell \u001b[0;32mIn[143], line 4\u001b[0m\n\u001b[1;32m      1\u001b[0m skip\u001b[38;5;241m=\u001b[39m\u001b[38;5;241m100\u001b[39m\n\u001b[1;32m      2\u001b[0m plt\u001b[38;5;241m.\u001b[39mfigure(figsize\u001b[38;5;241m=\u001b[39m(\u001b[38;5;241m30\u001b[39m,\u001b[38;5;241m40\u001b[39m))\n\u001b[0;32m----> 4\u001b[0m \u001b[38;5;28;01mfor\u001b[39;00m i \u001b[38;5;129;01min\u001b[39;00m \u001b[38;5;28mrange\u001b[39m(\u001b[38;5;28mlen\u001b[39m(\u001b[43mlmodel\u001b[49m\u001b[38;5;241;43m.\u001b[39;49m\u001b[43marr\u001b[49m\u001b[43m[\u001b[49m\u001b[43m:\u001b[49m\u001b[38;5;241;43m-\u001b[39;49m\u001b[38;5;241;43m1\u001b[39;49m\u001b[43m,\u001b[49m\u001b[38;5;241;43m0\u001b[39;49m\u001b[43m]\u001b[49m)):\n\u001b[1;32m      5\u001b[0m     plt\u001b[38;5;241m.\u001b[39msubplot(\u001b[38;5;28mlen\u001b[39m(lmodel\u001b[38;5;241m.\u001b[39marr[:\u001b[38;5;241m-\u001b[39m\u001b[38;5;241m1\u001b[39m,\u001b[38;5;241m0\u001b[39m]),\u001b[38;5;241m1\u001b[39m,i\u001b[38;5;241m+\u001b[39m\u001b[38;5;241m1\u001b[39m)\n\u001b[1;32m      6\u001b[0m     plt\u001b[38;5;241m.\u001b[39mylabel(\u001b[38;5;124mf\u001b[39m\u001b[38;5;124m\"\u001b[39m\u001b[38;5;124mu\u001b[39m\u001b[38;5;132;01m{\u001b[39;00mi\u001b[38;5;241m+\u001b[39m\u001b[38;5;241m1\u001b[39m\u001b[38;5;132;01m}\u001b[39;00m\u001b[38;5;124m\"\u001b[39m)\n",
      "\u001b[0;31mTypeError\u001b[0m: 'NoneType' object is not subscriptable"
     ]
    },
    {
     "data": {
      "text/plain": [
       "<Figure size 3000x4000 with 0 Axes>"
      ]
     },
     "metadata": {},
     "output_type": "display_data"
    }
   ],
   "source": [
    "skip=100\n",
    "plt.figure(figsize=(30,40))\n",
    "\n",
    "for i in range(len(lmodel.arr[:-1,0])):\n",
    "    plt.subplot(len(lmodel.arr[:-1,0]),1,i+1)\n",
    "    plt.ylabel(f\"u{i+1}\")\n",
    "    #plt.yscale=(\"log\")\n",
    "    plt.plot(np.real(lmodel.arr[-1,::skip]),abs(lmodel.arr[i,::skip]),lw=0.5)\n",
    "    for j in range(len(lmodel.perturbated_time)):\n",
    "        plt.vlines(x=lmodel.perturbated_time[j], ymin=np.min(abs(lmodel.arr[i,:])), ymax=np.max(abs(lmodel.arr[i,:])),colors=\"red\")\n",
    "#plt.savefig(fname=f\"../laminar/nu{runge_para['nu']}_beta{beta}_{runge_para['step']}_{check}check_{progress}progress.png\")"
   ]
  },
  {
   "cell_type": "code",
   "execution_count": 66,
   "id": "09d62a7c-9816-4a0c-8526-8eee398f1056",
   "metadata": {
    "jp-MarkdownHeadingCollapsed": true,
    "tags": []
   },
   "outputs": [
    {
     "ename": "TypeError",
     "evalue": "'NoneType' object is not subscriptable",
     "output_type": "error",
     "traceback": [
      "\u001b[0;31m---------------------------------------------------------------------------\u001b[0m",
      "\u001b[0;31mTypeError\u001b[0m                                 Traceback (most recent call last)",
      "Cell \u001b[0;32mIn[66], line 8\u001b[0m\n\u001b[1;32m      5\u001b[0m ax\u001b[38;5;241m.\u001b[39mset_ylabel(\u001b[38;5;124mf\u001b[39m\u001b[38;5;124m'\u001b[39m\u001b[38;5;124mu\u001b[39m\u001b[38;5;132;01m{\u001b[39;00mb\u001b[38;5;241m+\u001b[39m\u001b[38;5;241m1\u001b[39m\u001b[38;5;132;01m}\u001b[39;00m\u001b[38;5;124m'\u001b[39m)\n\u001b[1;32m      6\u001b[0m \u001b[38;5;66;03m#ax.set_xscale(\"log\")\u001b[39;00m\n\u001b[1;32m      7\u001b[0m \u001b[38;5;66;03m#ax.set_yscale(\"log\")\u001b[39;00m\n\u001b[0;32m----> 8\u001b[0m ax\u001b[38;5;241m.\u001b[39mplot(\u001b[43mlmodel\u001b[49m\u001b[38;5;241;43m.\u001b[39;49m\u001b[43marr\u001b[49m\u001b[43m[\u001b[49m\u001b[43ma\u001b[49m\u001b[43m,\u001b[49m\u001b[43m:\u001b[49m\u001b[38;5;241;43m2\u001b[39;49m\u001b[43m]\u001b[49m,lmodel\u001b[38;5;241m.\u001b[39marr[b,:\u001b[38;5;241m2\u001b[39m],lw\u001b[38;5;241m=\u001b[39m\u001b[38;5;241m0.01\u001b[39m)\n\u001b[1;32m      9\u001b[0m \u001b[38;5;66;03m#plt.savefig(f\"../laminar/nu{runge_para['nu']}_beta{beta}_{runge_para['step']}_{check}check_{progress}progress_u{a+1}&{b+1}.png\")\u001b[39;00m\n",
      "\u001b[0;31mTypeError\u001b[0m: 'NoneType' object is not subscriptable"
     ]
    },
    {
     "data": {
      "image/png": "[encoded data removed]",
      "text/plain": [
       "<Figure size 640x480 with 1 Axes>"
      ]
     },
     "metadata": {},
     "output_type": "display_data"
    }
   ],
   "source": [
    "a, b = 0, 1\n",
    "fig = plt.figure()\n",
    "ax = plt.subplot(1,1,1)\n",
    "ax.set_xlabel(f\"u{a+1}\")\n",
    "ax.set_ylabel(f'u{b+1}')\n",
    "#ax.set_xscale(\"log\")\n",
    "#ax.set_yscale(\"log\")\n",
    "ax.plot(lmodel.arr[a,:2],lmodel.arr[b,:2],lw=0.01)\n",
    "#plt.savefig(f\"../laminar/nu{runge_para['nu']}_beta{beta}_{runge_para['step']}_{check}check_{progress}progress_u{a+1}&{b+1}.png\")"
   ]
  },
  {
   "cell_type": "code",
   "execution_count": 402,
   "id": "1c0864ea-d4ef-4723-8da9-569cae6882ad",
   "metadata": {},
   "outputs": [
    {
     "data": {
      "image/png": "[encoded data removed]",
      "text/plain": [
       "<Figure size 640x480 with 2 Axes>"
      ]
     },
     "metadata": {},
     "output_type": "display_data"
    }
   ],
   "source": [
    "runge_para['period'][1] = 94\n",
    "arr = lmodel.get_arr(**runge_para)\n",
    "for i in range(len(arr[:-1,0])):\n",
    "    plt.subplot(len(arr[:-1,0]),1,i+1)\n",
    "    plt.ylabel(f\"u{i+1}\")\n",
    "    #plt.yscale=(\"log\")\n",
    "    plt.plot(arr[-1,:],arr[i,:],lw=0.5)"
   ]
  },
  {
   "cell_type": "code",
   "execution_count": 398,
   "id": "cfb24eb0-4d48-402b-abc3-bd87d4c3071a",
   "metadata": {},
   "outputs": [],
   "source": [
    "runge_para['start'] = arr[:-1,4:5]"
   ]
  },
  {
   "cell_type": "code",
   "execution_count": 401,
   "id": "0f2696b4-2cdb-4bba-9365-24c693ca6af1",
   "metadata": {},
   "outputs": [
    {
     "data": {
      "text/plain": [
       "<matplotlib.collections.PathCollection at 0x14fa37bb0>"
      ]
     },
     "execution_count": 401,
     "metadata": {},
     "output_type": "execute_result"
    },
    {
     "data": {
      "image/png": "[encoded data removed]",
      "text/plain": [
       "<Figure size 1920x1440 with 1 Axes>"
      ]
     },
     "metadata": {},
     "output_type": "display_data"
    }
   ],
   "source": [
    "a, b = 0, 1\n",
    "fig = plt.figure(dpi=300)\n",
    "ax = plt.subplot(1,1,1)\n",
    "ax.set_xlabel(f\"u{a+1}\")\n",
    "ax.set_ylabel(f'u{b+1}')\n",
    "#ax.set_xscale(\"log\")\n",
    "#ax.set_yscale(\"log\")\n",
    "ax.scatter(arr[a,:20],arr[b,:20], s = 1)\n",
    "#plt.savefig(f\"../laminar/nu{runge_para['nu']}_beta{beta}_{runge_para['step']}_{check}check_{progress}progress_u{a+1}&{b+1}.png\")"
   ]
  }
 ],
 "metadata": {
  "accelerator": "GPU",
  "colab": {
   "collapsed_sections": [],
   "provenance": []
  },
  "gpuClass": "standard",
  "kernelspec": {
   "display_name": "Python 3 (ipykernel)",
   "language": "python",
   "name": "python3"
  },
  "language_info": {
   "codemirror_mode": {
    "name": "ipython",
    "version": 3
   },
   "file_extension": ".py",
   "mimetype": "text/x-python",
   "name": "python",
   "nbconvert_exporter": "python",
   "pygments_lexer": "ipython3",
   "version": "3.9.13"
  }
 },
 "nbformat": 4,
 "nbformat_minor": 5
}
