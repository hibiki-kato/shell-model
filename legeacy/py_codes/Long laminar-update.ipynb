{
 "cells": [
  {
   "cell_type": "code",
   "execution_count": null,
   "id": "1623a1a9-1c6b-4e45-acbd-1d3cedc85452",
   "metadata": {
    "executionInfo": {
     "elapsed": 2320,
     "status": "ok",
     "timestamp": 1662964760702,
     "user": {
      "displayName": "KATO HIBIKI",
      "userId": "15445130315388485598"
     },
     "user_tz": -540
    },
    "id": "8338c8d5-318b-40ca-a33d-2b95960cd93d",
    "tags": []
   },
   "outputs": [],
   "source": [
    "import numpy as np\n",
    "import matplotlib.pyplot as plt\n",
    "from tqdm import tqdm\n",
    "import math\n",
    "import cmath\n",
    "from numba import njit, f8,i8,c16\n",
    "import numba\n",
    "import matplotlib.animation as animation\n",
    "from IPython.display import HTML\n",
    "import copy\n",
    "import matplotlib\n",
    "import random\n",
    "import  concurrent.futures\n",
    "import func_for_paralell\n",
    "\n",
    "import sys\n",
    "sys.path.append('../../lb')\n",
    "import RungeKutta_acceralated"
   ]
  },
  {
   "cell_type": "code",
   "execution_count": null,
   "id": "8c99cad9-ac87-443e-81ad-ae3f47b38e3b",
   "metadata": {
    "executionInfo": {
     "elapsed": 46,
     "status": "ok",
     "timestamp": 1662965704473,
     "user": {
      "displayName": "KATO HIBIKI",
      "userId": "15445130315388485598"
     },
     "user_tz": -540
    },
    "id": "d9ea2405-1940-4c01-9d1b-51d9a0143e95",
    "tags": []
   },
   "outputs": [],
   "source": [
    "#パラメーター\n",
    "nu = 0.001\n",
    "\n",
    "f = (1 + 1j) * 5 * 0.001\n",
    "\n",
    "Dimention = 14 #uの次元数\n",
    "q = 2\n",
    "k_0 = 2 ** (-4)\n",
    "k_n = np.zeros((Dimention+4,1))\n",
    "k_n[2:-2,0] = [k_0 * q ** (i+1) for i in range(Dimention)]\n",
    "#print(k_n)\n",
    "\n",
    "c_n_1 = copy.deepcopy(k_n)[2:-2, 0:]\n",
    "c_n_1[-2:, 0:] = np.zeros((2,1))\n",
    "#print(c_n_1)\n",
    "\n",
    "beta = 0.5\n",
    "c_n_2 = copy.deepcopy(k_n)[1:-3, 0:] * -beta\n",
    "c_n_2[-1, 0] = np.zeros((1, 1))\n",
    "#print(c_n_2)\n",
    "\n",
    "c_n_3 = copy.deepcopy(k_n)[:-4, 0:] * (beta - 1)\n",
    "#print(c_n_3)\n",
    "\n",
    "#parameter = [nu,f,k_n,c_n_1,c_n_2,c_n_3]\n",
    "parameter = {\n",
    "    'nu' : nu,\n",
    "    'f' : f,\n",
    "    'k_n' : k_n,\n",
    "    'c_n_1' : c_n_1,\n",
    "    'c_n_2' : c_n_2,\n",
    "    'c_n_3' : c_n_3\n",
    "}\n",
    "#print(parameter)\n",
    "#print(k_n)\n",
    "\n",
    "runge_para = {\n",
    "    'start' :  np.load(\"14次元初期値.npy\"),\n",
    "    'step' : 0.00025,\n",
    "    'period' : np.array([0,5000]),\n",
    "    'nu' : nu,\n",
    "    'f' : f,\n",
    "    'k_n' : k_n,\n",
    "    'c_n_1' : c_n_1,\n",
    "    'c_n_2' : c_n_2,\n",
    "    'c_n_3' : c_n_3,\n",
    "    #'check' : 2000,\n",
    "    #'progress' : 10\n",
    "}"
   ]
  },
  {
   "cell_type": "markdown",
   "id": "de54da31-1ad6-499a-bbd2-cdceeb2a31a7",
   "metadata": {
    "jp-MarkdownHeadingCollapsed": true,
    "tags": []
   },
   "source": [
    "# コンテスト"
   ]
  },
  {
   "cell_type": "code",
   "execution_count": null,
   "id": "3c5e76d2-3f0e-47ae-a21a-4c7bc79d4948",
   "metadata": {
    "executionInfo": {
     "elapsed": 2662,
     "status": "ok",
     "timestamp": 1661331257476,
     "user": {
      "displayName": "KATO HIBIKI",
      "userId": "15445130315388485598"
     },
     "user_tz": -540
    },
    "id": "3c5e76d2-3f0e-47ae-a21a-4c7bc79d4948",
    "tags": []
   },
   "outputs": [],
   "source": [
    "#c4が極大値を取る時の全変数(+時間)をndarrayで返す関数\n",
    "@njit(f8[:,:](c16[:,:],f8[:,:]),cache=True)\n",
    "def loc_max_7(arr,z_list):\n",
    "    for j in range(len(arr[0,:]) - 3):\n",
    "        #7点とって極大判定\n",
    "        if (np.abs(arr[3,j+1]) - np.abs(arr[3,j]) > 0\n",
    "        and np.abs(arr[3,j+2]) - np.abs(arr[3,j+1]) > 0\n",
    "        and np.abs(arr[3,j+3]) - np.abs(arr[3,j+2]) > 0\n",
    "        and np.abs(arr[3,j+4]) - np.abs(arr[3,j+3]) < 0\n",
    "        and np.abs(arr[3,j+5]) - np.abs(arr[3,j+4]) < 0\n",
    "        and np.abs(arr[3,j+6]) - np.abs(arr[3,j+5]) < 0):\n",
    "            z_list = np.append(z_list,np.abs(arr[:,j+3:j+4]),axis=1)\n",
    "    return z_list"
   ]
  },
  {
   "cell_type": "code",
   "execution_count": null,
   "id": "10d1bf80",
   "metadata": {
    "id": "10d1bf80",
    "outputId": "3e97d718-a83b-47d3-e015-66a396352190",
    "tags": []
   },
   "outputs": [],
   "source": [
    "%%time\n",
    "runge_para[\"period\"]=(0,../laminar_initials/beta0.4215000000000002_nu0.00017072648529039704_step0.01_1000chec_10pro_10period.npz0\n",
    "competitives = 10\n",
    "\n",
    "plt.figure(figsize=(60,5))\n",
    "\n",
    "# #nu\n",
    "# runge_para[\"nu\"] = 0.0001697\n",
    "# #betaの値に従いc_n_2,c_n_3を更新\n",
    "# beta = 0.42119\n",
    "\n",
    "#c_n_2\n",
    "runge_para[\"c_n_2\"] = runge_para[\"k_n\"][1:-3, 0:] * -beta\n",
    "runge_para[\"c_n_2\"][-1, 0:] = np.zeros((1, 1))\n",
    "\n",
    "#c_n_3\n",
    "runge_para[\"c_n_3\"] = runge_para[\"k_n\"][:-4, 0:] * (beta - 1)\n",
    "\n",
    "#摂動を与えた初期値のリスト\n",
    "starts = np.zeros((14,competitives))\n",
    "starts = starts.astype(np.complex128)\n",
    "\n",
    "lmodel = Long_laminar() #インスタンス化\n",
    "for i in range(competitives):\n",
    "    starts[:,i:i+1] = lmodel.perturbator(runge_para['start'])\n",
    "\n",
    "#ラミナーから出た極大値の時間\n",
    "times = np.zeros((competitives,1))\n",
    "\n",
    "for i in tqdm(range(competitives)):\n",
    "    cut_arr = np.zeros((Dimention+1,1))\n",
    "    \n",
    "    runge_para['start'] = starts[:,i:i+1]\n",
    "    #インスタンス化&実行\n",
    "    model = RungeKutta_acceralated.RungeKutta()\n",
    "    model.get_arr_latter(nu = runge_para['nu'],f=runge_para['f'],k_n=runge_para['k_n'],c_n_1=runge_para['c_n_1'],c_n_2=runge_para['c_n_2'],c_n_3=runge_para['c_n_3'],start=runge_para['start'], step=runge_para['step'],period=runge_para['period'],latter=1)\n",
    "    #プロット\n",
    "    plt.subplot(1,1,1)\n",
    "    plt.ylabel(f\"u{4}\")\n",
    "    plt.yscale=(\"log\")\n",
    "    plt.plot(np.real(model.arr_latter[-1,::skip]),abs(model.arr_latter[0,::skip]),lw=0.5)\n",
    "    \n",
    "    #極大抽出\n",
    "    cut_arr = loc_max_7(model.arr_latter,cut_arr)\n",
    "    \n",
    "    for j in range(len(cut_arr[0,:])):\n",
    "        if not ((0.52 < cut_arr[0,j] < 0.68 or 0.78 < cut_arr[0,j] < 1) \n",
    "            and (0.02 < cut_arr[1,j] < 0.13 or 0.19 < cut_arr[1,j] < 0.34)\n",
    "            and (0.12 < cut_arr[2,j] < 0.26 or 0.36 < cut_arr[2,j] < 0.48)\n",
    "            and (0.17 < cut_arr[3,j] < 0.24 or 0.25 < cut_arr[3,j] < 0.32 or 0.34 < cut_arr[3,j] < 0.42)\n",
    "            and (0.08 < cut_arr[4,j] < 0.2 or 0.28 < cut_arr[4,j] < 0.35)\n",
    "            and (0.05 < cut_arr[5,j] < 0.115 or 0.12 < cut_arr[5,j] < 0.155)\n",
    "            and (0.03 < cut_arr[6,j] < 0.07 or 0.1 < cut_arr[6,j] < 0.22)\n",
    "            and (0.02 < cut_arr[7,j] < 0.08 or 0.104 < cut_arr[7,j] <0.144)\n",
    "            and (0.014 < cut_arr[8,j] < 0.078)\n",
    "            and (0 < cut_arr[9,j] < 0.036 or 0.048 < cut_arr[9,j] < 0.076 or 0.084 < cut_arr[9,j] < 0.1)\n",
    "            and (0 < cut_arr[10,j] < 0.014 or 0.02 < cut_arr[10,j] < 0.038 or 0.046 < cut_arr[10,j] < 0.068)\n",
    "            and (0 < cut_arr[11,j] < 0.002 or 0.003 < cut_arr[11,j] < 0.0095 or 0.0135 < cut_arr[11,j] < 0.0225)\n",
    "            and (0 < cut_arr[12,j] < 0.0006 or 0.001 < cut_arr[12,j] < 0.0024)\n",
    "            and (0 < cut_arr[13,j] < 0.000005 or 0.00001 < cut_arr[13,j] < 0.000045)):\n",
    "            times[i,0] = cut_arr[-1,j]\n",
    "            break\n",
    "            \n",
    "#plt.savefig(fname=f\"../laminar/contest_a=-8_b=-15_nu{runge_para['nu']}_beta{beta}_{runge_para['step']}_{Dimention}dim.png\")\n",
    "\n",
    "print(np.mean(times))\n",
    "print(np.std(times))\n",
    "print(np.min(times))\n",
    "print(np.max(times))"
   ]
  },
  {
   "cell_type": "code",
   "execution_count": null,
   "id": "31cd2dc9-5dba-465b-aae7-b6bf0f320638",
   "metadata": {
    "tags": []
   },
   "outputs": [],
   "source": [
    "#ある程度持続すれば更新\n",
    "runge_para[\"period\"]=np.array([0,1000])\n",
    "competitives = 1000\n",
    "\n",
    "#刻み幅\n",
    "runge_para[\"step\"] = 0.01\n",
    "skip= 100\n",
    "\n",
    "#runge_para['start'] = np.load(\"14次元初期値.npy\")\n",
    "\n",
    "plus = 1E-5\n",
    "\n",
    "#nu\n",
    "runge_para[\"nu\"] =  0.000170863309\n",
    "original_nu = runge_para[\"nu\"]*1\n",
    "#betaの値に従いc_n_2,c_n_3を更新\n",
    "beta = 0.42119\n",
    "\n",
    "lmodel = Long_laminar()\n",
    "\n",
    "#摂動を与えた初期値のリスト作成\n",
    "starts = np.zeros((14,competitives),dtype = np.complex128)\n",
    "for i in range(competitives):\n",
    "    starts[:,i:i+1] = perturbator(runge_para['start'])\n",
    "    \n",
    "\n",
    "#ラミナーから外れた時間\n",
    "times = np.zeros((competitives,1))\n",
    "\n",
    "for i in tqdm(range(competitives)):\n",
    "    cut_arr = np.zeros((Dimention+1,1))\n",
    "    \n",
    "    runge_para['start'] = starts[:,i:i+1]\n",
    "    #インスタンス化&実行\n",
    "    lmodel.get_arr_latter(nu = runge_para['nu'],f=runge_para['f'],k_n=runge_para['k_n'],c_n_1=runge_para['c_n_1'],c_n_2=runge_para['c_n_2'],c_n_3=runge_para['c_n_3'],start=runge_para['start'], step=runge_para['step'],period=runge_para['period'],latter=1)\n",
    "    \n",
    "    #極大抽出\n",
    "    loc_max = lmodel.loc_max_7(lmodel.arr) #u1が極大値なものを拾ってくる\n",
    "    loc_min = lmodel.loc_min_7(lmodel.arr) #u1が極小値なものを拾ってくる\n",
    "    \n",
    "    #極大値での\n",
    "    if (0.5 < np.min(np.abs(lmodel.arr[0,:])) and np.max(np.abs(lmodel.arr[0,:])) < 1.1 and 0.87 < np.min(loc_max[0,:]) and np.max(loc_min[0,:]) < 0.64):\n",
    "        break"
   ]
  },
  {
   "cell_type": "markdown",
   "id": "b0457062-2f3e-4f44-a1c1-0f803cabd542",
   "metadata": {
    "tags": []
   },
   "source": [
    "# ラミナーに留まる(パラメータ更新)"
   ]
  },
  {
   "cell_type": "markdown",
   "id": "6bd1c66b-db87-416f-a9f5-914835aee4f2",
   "metadata": {
    "tags": []
   },
   "source": [
    "# 初期値・nu ランダム"
   ]
  },
  {
   "cell_type": "code",
   "execution_count": null,
   "id": "34ba3986-d57e-480d-8be1-5824cfe1fd1d",
   "metadata": {
    "collapsed": true,
    "jupyter": {
     "outputs_hidden": true
    },
    "tags": []
   },
   "outputs": [],
   "source": [
    "#ある程度持続すれば更新\n",
    "runge_para[\"period\"]=np.array([0,1000])\n",
    "competitives = 800\n",
    "\n",
    "#刻み幅\n",
    "runge_para[\"step\"] = 0.01\n",
    "skip= 100\n",
    "\n",
    "runge_para['start'] = np.load(\"../laminar_initials/beta0.423_nu0.00017584784643038092_step0.01_1500check_500pro_20000period.npz\")[\"start\"]\n",
    "\n",
    "plus = - 1E-4\n",
    "\n",
    "#nu\n",
    "runge_para[\"nu\"] = 0.00014193346213826156\n",
    "#betaの値に従いc_n_2,c_n_3を更新\n",
    "beta = 0.4327\n",
    "\n",
    "model = RungeKutta_acceralated.RungeKutta()\n",
    "lmodel = Long_laminar()\n",
    "\n",
    "while True:\n",
    "    #c_n_2\n",
    "    runge_para[\"c_n_2\"] = runge_para[\"k_n\"][1:-3, 0:] * -beta\n",
    "    runge_para[\"c_n_2\"][-1, 0:] = np.zeros((1, 1))\n",
    "\n",
    "    #c_n_3\n",
    "    runge_para[\"c_n_3\"] = runge_para[\"k_n\"][:-4, 0:] * (beta - 1)\n",
    "    for _ in range(3):\n",
    "        #摂動を与えたnuのリスト作成\n",
    "        nus = np.zeros((competitives),dtype = np.float64)\n",
    "        nus[0] = runge_para[\"nu\"]*1\n",
    "        for i in range(competitives-1):\n",
    "            a=-5\n",
    "            b=-9\n",
    "            nus[i+1] = runge_para[\"nu\"] + (10) ** ((b - a) * np.random.rand() + a) * (-1) ** np.random.randint(1,3) \n",
    "\n",
    "        #摂動を与えた初期値のリスト作成\n",
    "        starts = np.zeros((14,competitives),dtype = np.complex128)\n",
    "        starts[:,0:1] = runge_para[\"start\"].copy()\n",
    "        for i in range(competitives-1):\n",
    "            starts[:,i+1:i+2] = lmodel.perturbator(runge_para['start'])\n",
    "\n",
    "        #ラミナーから外れた時間\n",
    "        times = np.zeros((competitives)) + runge_para[\"period\"][1]\n",
    "\n",
    "        for i in range(competitives):\n",
    "            runge_para['start'] = starts[:,i:i+1].copy()\n",
    "            runge_para['nu'] = nus[i]\n",
    "            #インスタンス化&実行\n",
    "            model.get_arr_latter(**runge_para,latter=1)\n",
    "\n",
    "            #極大抽出\n",
    "            loc_max = Long_laminar.loc_max_7(model.arr_latter) #u1が極大値なものを拾ってくる\n",
    "            loc_min = Long_laminar.loc_min_7(model.arr_latter) #u1が極小値なものを拾ってくる\n",
    "\n",
    "            #極大値で判定\n",
    "            for j in range(loc_max.shape[1]):\n",
    "                if not 0.87 < loc_max[0,j] < 1.1:\n",
    "                    times[i] = loc_max[-1, j]\n",
    "                    break\n",
    "            #極小値で判定\n",
    "            for j in range(loc_min.shape[1]):\n",
    "                if not 0.5 < loc_min[0,j] < 0.64:\n",
    "                    times[i] = min([loc_min[-1,j], times[i]])\n",
    "        runge_para['nu'] = nus[np.argmax(times)]\n",
    "        runge_para['start'] = starts[:, np.argmax(times):np.argmax(times)+1]\n",
    "        print(max(times))\n",
    "        if max(times) > runge_para[\"period\"][1]*0.99:\n",
    "            break\n",
    "\n",
    "    if max(times) > 800:\n",
    "        np.save(f\"../laminar_initials/beta{beta}_nu{runge_para['nu']}_step{runge_para['step']}_{max(times)}period_laminar\", runge_para['start'])\n",
    "    print(f\"beta={beta}, time = {max(times)}\")\n",
    "    beta += plus"
   ]
  },
  {
   "cell_type": "code",
   "execution_count": null,
   "id": "b01a117a-bf8a-491f-b926-d3bca0cdac03",
   "metadata": {
    "tags": []
   },
   "outputs": [],
   "source": [
    "#並列ver.\n",
    "#ある程度持続すれば更新\n",
    "runge_para[\"period\"]=np.array([0,10000])\n",
    "competitives = 10\n",
    "\n",
    "#刻み幅\n",
    "runge_para[\"step\"] = 0.01\n",
    "runge_para['start'] = np.load(\"../laminar_initials/beta0.419_nu0.00017256435676170782_step0.01_2000.0period_laminar.npy\")\n",
    "\n",
    "plus = 1E-3\n",
    "#nu\n",
    "runge_para[\"nu\"] = 0.00017256435676170782\n",
    "beta= 0.418\n",
    "\n",
    "model = RungeKutta_acceralated.RungeKutta()\n",
    "lmodel = RungeKutta_acceralated.Long_laminar()\n",
    "\n",
    "while True:\n",
    "    if beta > 0.5:\n",
    "        break\n",
    "    #betaの値に従いc_n_2,]}}c_n_3を更新\n",
    "    #c_n_2\n",
    "    runge_para[\"c_n_2\"] = runge_para[\"k_n\"][1:-3, 0:] * -beta\n",
    "    runge_para[\"c_n_2\"][-1, 0:] = np.zeros((1, 1))\n",
    "\n",
    "    #c_n_3\n",
    "    runge_para[\"c_n_3\"] = runge_para[\"k_n\"][:-4, 0:] * (beta - 1)\n",
    "    for _ in range(4):\n",
    "        with concurrent.futures.ProcessPoolExecutor(max_workers = 8) as executor: \n",
    "            task1 = executor.submit(func_for_paralell.competition, runge_para, competitives)\n",
    "            task2 = executor.submit(func_for_paralell.competition, runge_para, competitives)\n",
    "            task3 = executor.submit(func_for_paralell.competition, runge_para, competitives)\n",
    "            task4 = executor.submit(func_for_paralell.competition, runge_para, competitives)\n",
    "            # task5 = executor.submit(func_for_paralell.competition, runge_para, competitives)\n",
    "            # task6 = executor.submit(func_for_paralell.competition, runge_para, competitives)\n",
    "            # task7 = executor.submit(func_for_paralell.competition, runge_para, competitives)\n",
    "            \n",
    "            times1, starts1, nus1 = task1.result()\n",
    "            times2, starts2, nus2 = task2.result()\n",
    "            times3, starts3, nus3 = task3.result()\n",
    "            times4, starts4, nus4 = task4.result()\n",
    "            # times5, starts5, nus5 = task5.result()\n",
    "            # times6, starts6, nus6 = task6.result()\n",
    "            # times7, starts7, nus7 = task7.result()\n",
    "        times = np.concatenate([times1, times2, times3, times4])\n",
    "        starts = np.concatenate((starts1, starts2, starts3, starts4), axis=1)\n",
    "        nus = np.concatenate([nus1, nus2, nus3, nus4])\n",
    "\n",
    "        # times = np.concatenate([times1, times2, times3, times4, times5, times6, times7])\n",
    "        # starts = np.concatenate((starts1, starts2, starts3, starts4, starts5, starts6, starts7), axis=1)\n",
    "        # nus = np.concatenate([nus1, nus2, nus3, nus4, nus5, nus6, nus7])\n",
    "        runge_para['nu'] = nus[np.argmax(times)]\n",
    "        runge_para['start'] = starts[:, np.argmax(times):np.argmax(times)+1]\n",
    "        print(max(times))\n",
    "        if max(times) > runge_para[\"period\"][1]*0.99:\n",
    "            break\n",
    "    if max(times) > 600:\n",
    "        np.save(f\"../laminar_initials/beta{beta}_nu{runge_para['nu']}_step{runge_para['step']}_{int(max(times))}period_laminar\", runge_para[\"start\"])\n",
    "    print(f\"beta={beta}, nu = {runge_para['nu']} time = {max(times)}\")\n",
    "    model.get_arr_latter(**runge_para,latter = 1)\n",
    "    plt.clf()\n",
    "    plt.figure(figsize=(40,5))\n",
    "    plt.plot(abs(model.arr_latter[-1,:]),abs(model.arr_latter[0,:]))\n",
    "    plt.show()\n",
    "    beta += plus"
   ]
  },
  {
   "cell_type": "code",
   "execution_count": null,
   "id": "5e565b7d-1c8e-4713-aa37-e947ae15e385",
   "metadata": {
    "tags": []
   },
   "outputs": [],
   "source": [
    "np.save(f\"../laminar_initials/beta{beta}_nu{runge_para['nu']}_step{runge_para['step']}_{max(times)}period_laminar\", runge_para[\"start\"])"
   ]
  },
  {
   "cell_type": "code",
   "execution_count": null,
   "id": "b8e95f6f-c4c5-4505-ae77-92095a0eca73",
   "metadata": {
    "tags": []
   },
   "outputs": [],
   "source": [
    "#軌道確認\n",
    "skip = 1\n",
    "\n",
    "runge_para['period']=np.array([0,10000])\n",
    "model.get_arr_latter(**runge_para,latter=1)\n",
    "Nth_shell = 3\n",
    "plt.figure(figsize=(20,30))\n",
    "for i in range(Dimention):\n",
    "    plt.subplot(Dimention+1,1,i+1)\n",
    "    plt.ylabel(f\"u{i+1}\")\n",
    "    #plt.yscale=(\"log\")\n",
    "    plt.plot(np.real(model.arr_latter[-1,::skip]),abs(model.arr_latter[i,::skip]),lw=1)\n",
    "\n",
    "plt.subplot(Dimention+1,1,Dimention+1)\n",
    "plt.ylabel(f\"flux of {Nth_shell}th shell\")\n",
    "plt.plot(np.real(model.arr_latter[-1,:]), lmodel.flux(model.arr_latter[:-1,:], Nth_shell, beta)[0,:])"
   ]
  },
  {
   "cell_type": "markdown",
   "id": "c2f978c8-a3a1-48e5-b353-0633aeb6b69c",
   "metadata": {
    "jp-MarkdownHeadingCollapsed": true,
    "tags": []
   },
   "source": [
    "## stagger and step(自動)"
   ]
  },
  {
   "cell_type": "code",
   "execution_count": null,
   "id": "e50703bb-2f8d-4256-bd59-b85295287e05",
   "metadata": {
    "collapsed": true,
    "jupyter": {
     "outputs_hidden": true
    },
    "tags": []
   },
   "outputs": [],
   "source": [
    "runge_para[\"period\"]=np.array([0,1000])\n",
    "\n",
    "#刻み幅\n",
    "runge_para[\"step\"] = 0.01\n",
    "\n",
    "runge_para[\"check\"] = 1000\n",
    "runge_para[\"progress\"] = 1000\n",
    "\n",
    "runge_para['start'] = np.load(\"../laminar_initials/beta0.4254000000000001_nu0.0001737395209159338_step0.01_1000chec_10pro_10period.npz\")[\"start\"]\n",
    "\n",
    "plus = 1E-5\n",
    "\n",
    "#nu\n",
    "runge_para[\"nu\"] = 0.0001737395209159338\n",
    "original_nu = runge_para[\"nu\"]*1\n",
    "#betaの値に従いc_n_2,c_n_3を更新\n",
    "beta = 0.4254\n",
    "\n",
    "lmodel = Long_laminar()\n",
    "\n",
    "\n",
    "#betaを0.5に向けて更新\n",
    "\n",
    "#ここから\n",
    "while True:        \n",
    "    #c_n_2\n",
    "    runge_para[\"c_n_2\"] = runge_para[\"k_n\"][1:-3, 0:] * -beta\n",
    "    runge_para[\"c_n_2\"][-1, 0:] = np.zeros((1, 1))\n",
    "    #c_n_3\n",
    "    runge_para[\"c_n_3\"] = runge_para[\"k_n\"][:-4, 0:] * (beta - 1)\n",
    "    \n",
    "\n",
    "    lmodel.get_laminar(**runge_para)\n",
    "    #上手くいかなかった時\n",
    "    if abs(lmodel.arr[0,-1]) == 0:\n",
    "        #nuを更新\n",
    "        a=-5\n",
    "        b=-14\n",
    "        runge_para[\"nu\"] = original_nu + (10) ** ((b - a) * np.random.rand() + a) * (-1) ** np.random.randint(1,3) #nuを適当に更新(一応負の方向に行きやすい)\n",
    "        continue\n",
    "#ここまでを並列化したい。\n",
    "\n",
    "    original_nu = runge_para[\"nu\"]*1\n",
    "    runge_para[\"start\"] = lmodel.arr[:-1,0:1]\n",
    "    np.savez_compressed(f\"../laminar_initials/beta{beta}_nu{runge_para['nu']}_step{runge_para['step']}_{runge_para['check']}chec_{runge_para['progress']}pro_{runge_para['period'][1]}period\", start=lmodel.arr[:-1,0:1], laminar=lmodel.arr, perturbated_time=lmodel.perturbated_time)\n",
    "    print(f\"\\n 現在beta={beta},nu={runge_para['nu']}\")\n",
    "    beta += plus"
   ]
  },
  {
   "cell_type": "markdown",
   "id": "9c1197bf-0119-4a66-9be1-8daec48340b8",
   "metadata": {
    "tags": []
   },
   "source": [
    "## stagger and step(手動)"
   ]
  },
  {
   "cell_type": "code",
   "execution_count": null,
   "id": "4e49ae7a-4cc6-40de-b986-b41808e49381",
   "metadata": {
    "collapsed": true,
    "jupyter": {
     "outputs_hidden": true,
     "source_hidden": true
    },
    "tags": []
   },
   "outputs": [],
   "source": [
    "%%time\n",
    "runge_para[\"period\"]=np.array([0,5000])\n",
    "\n",
    "#刻み幅\n",
    "runge_para[\"step\"] = 0.01\n",
    "skip= 10\n",
    "\n",
    "check = 1000\n",
    "progress = 100\n",
    "\n",
    "#runge_para['start'] = np.load(\"14次元初期値.npy\")\n",
    "\n",
    "plus = 5E-4\n",
    "\n",
    "#nu\n",
    "runge_para[\"nu\"] = 0.00017\n",
    "#betaの値に従いc_n_2,c_n_3を更新\n",
    "beta = 0.4174\n",
    "\n",
    "lmodel = Long_laminar()\n",
    "\n",
    "#betaを0.5に向けて更新\n",
    "for i in tqdm(range(1)):\n",
    "    #c_n_2\n",
    "    runge_para[\"c_n_2\"] = runge_para[\"k_n\"][1:-3, 0:] * -beta\n",
    "    runge_para[\"c_n_2\"][-1, 0:] = np.zeros((1, 1))\n",
    "    #c_n_3\n",
    "    runge_para[\"c_n_3\"] = runge_para[\"k_n\"][:-4, 0:] * (beta - 1)\n",
    "    \n",
    "\n",
    "    lmodel.get_laminar(**runge_para, check = check, progress = progress)\n",
    "    #上手くいかなかった時\n",
    "    if abs(lmodel.arr[0,-1]) == 0:\n",
    "        plt.figure(figsize=(30,40))\n",
    "        for i in range(len(lmodel.arr[:-1,0])):\n",
    "            plt.subplot(len(lmodel.arr[:-1,0]),1,i+1)\n",
    "            plt.ylabel(f\"u{i+1}\")\n",
    "            #plt.yscale=(\"log\")\n",
    "            plt.plot(np.real(zenkai[-1,:]),abs(zenkai[i,:]),lw=0.5)\n",
    "            for j in range(len(lmodel.perturbated_time)):\n",
    "                plt.vlines(x=lmodel.perturbated_time[j], ymin=np.min(abs(zenkai[i,:])), ymax=np.max(abs(zenkai[i,:])),colors=\"red\")\n",
    "        print(f'最後のbeta={beta - plus}')\n",
    "        break\n",
    "        \n",
    "    runge_para[\"start\"] = lmodel.arr[:-1,-1:]\n",
    "    zenkai = lmodel.arr\n",
    "    np.save(f\"../laminar_initials/beta{beta}_nu{runge_para['nu']}_step{runge_para['step']}_{check}check_{progress}pro\",lmodel.arr[:-1,0:1])\n",
    "    print(f\"\\r 現在beta={beta}\", end=\"\")\n",
    "    beta += plus"
   ]
  },
  {
   "cell_type": "markdown",
   "id": "aff3a614-6ad8-4518-9123-f1cc9fa61346",
   "metadata": {},
   "source": [
    "## 初期値の調整"
   ]
  },
  {
   "cell_type": "code",
   "execution_count": null,
   "id": "0ad06b89-6016-417b-975a-de0eaffd6199",
   "metadata": {
    "tags": []
   },
   "outputs": [],
   "source": [
    "runge_para['start'] = np.load(\"../laminar_initials/beta0.4215000000000002_nu0.00017072648529039704_step0.01_1000chec_10pro_10period.npz\")[\"start\"]"
   ]
  },
  {
   "cell_type": "code",
   "execution_count": null,
   "id": "0fe2cde8-91e6-4cb7-9988-a82974684932",
   "metadata": {},
   "outputs": [],
   "source": [
    "e = int(len(zenkai[0,:])//100*50)\n",
    "runge_para['start'] = zenkai[:-1,e:e+1]"
   ]
  },
  {
   "cell_type": "code",
   "execution_count": null,
   "id": "2f504737-1730-40e8-873b-1a43e980df0a",
   "metadata": {
    "tags": []
   },
   "outputs": [],
   "source": [
    "d = 6\n",
    "runge_para['start'] = model.arr_latter[:-1,int(len(model.arr_latter[0,:])//100*d):int(len(model.arr_latter[0,:])//100*d)+1]"
   ]
  },
  {
   "cell_type": "code",
   "execution_count": null,
   "id": "793cf9b5-1ed1-44f6-abe6-ef884f740315",
   "metadata": {
    "collapsed": true,
    "jupyter": {
     "outputs_hidden": true
    },
    "tags": []
   },
   "outputs": [],
   "source": [
    "#極大値極小値の範囲を知りたい\n",
    "def loc_max_7(arr):\n",
    "    N = 0\n",
    "    z_list = np.zeros((len(arr[:,0]),1))\n",
    "    for j in range(len(arr[0,:]) - 10):\n",
    "        #7点とって極大判定\n",
    "        if (np.abs(arr[N,j+1]) - np.abs(arr[N,j]) > 0\n",
    "        and np.abs(arr[N,j+2]) - np.abs(arr[N,j+1]) > 0\n",
    "        and np.abs(arr[N,j+3]) - np.abs(arr[N,j+2]) > 0\n",
    "        and np.abs(arr[N,j+4]) - np.abs(arr[N,j+3]) < 0\n",
    "        and np.abs(arr[N,j+5]) - np.abs(arr[N,j+4]) < 0\n",
    "        and np.abs(arr[N,j+6]) - np.abs(arr[N,j+5]) < 0):\n",
    "            z_list = np.append(z_list,np.abs(arr[:,j+3:j+4]),axis=1)\n",
    "    return z_list[:,1:]\n",
    "\n",
    "#c_N+1が極小値を取る時の全変数(+時間)をndarrayで返す関数\n",
    "\n",
    "def loc_min_7(arr):\n",
    "    N = 0\n",
    "    z_list = np.zeros((len(arr[:,0]),1))\n",
    "    for j in range(len(arr[0,:]) - 10):\n",
    "        #7点とって極大判定\n",
    "        if (np.abs(arr[N,j+1]) - np.abs(arr[N,j]) < 0\n",
    "        and np.abs(arr[N,j+2]) - np.abs(arr[N,j+1]) < 0\n",
    "        and np.abs(arr[N,j+3]) - np.abs(arr[N,j+2]) < 0\n",
    "        and np.abs(arr[N,j+4]) - np.abs(arr[N,j+3]) > 0\n",
    "        and np.abs(arr[N,j+5]) - np.abs(arr[N,j+4]) > 0\n",
    "        and np.abs(arr[N,j+6]) - np.abs(arr[N,j+5]) > 0):\n",
    "            z_list = np.append(z_list,np.abs(arr[:,j+3:j+4]),axis=1)\n",
    "    return z_list[:,1:]\n",
    "\n",
    "min=loc_min_7(model.arr_latter)\n",
    "max=loc_max_7(model.arr_latter)\n",
    "print(np.max(min[0,:]),np.min(min[0,:]))\n",
    "print(np.max(max[0,:]),np.min(max[0,:]))"
   ]
  },
  {
   "cell_type": "code",
   "execution_count": null,
   "id": "449a2a7e-d3cd-4e0b-acaf-44faa3fe0671",
   "metadata": {},
   "outputs": [],
   "source": [
    "a, b = 3, 4\n",
    "fig = plt.figure()\n",
    "ax = plt.subplot(1,1,1)\n",
    "ax.set_xlabel(f\"u{a+1}\")\n",
    "ax.set_ylabel(f'u{b+1}')\n",
    "ax.set_xscale(\"log\")\n",
    "ax.set_yscale(\"log\")\n",
    "ax.plot(np.abs(model.arr_latter[a,:50000]),np.abs(model.arr_latter[b,:50000]),lw=0.1)"
   ]
  },
  {
   "cell_type": "code",
   "execution_count": null,
   "id": "e4e8e24a-8143-4162-8f7a-aa20795fb525",
   "metadata": {
    "tags": []
   },
   "outputs": [],
   "source": [
    "#lmodel.perturbated_time"
   ]
  },
  {
   "cell_type": "code",
   "execution_count": null,
   "id": "003b70ef-e923-481b-ac5e-d75f0ec82a3d",
   "metadata": {
    "tags": []
   },
   "outputs": [],
   "source": [
    "skip=1\n",
    "plt.figure(figsize=(30,40))\n",
    "arr=np.load(\"../laminar_initials/beta0.426_nu0.00017476988409663425_step0.01_1317.4799999989468period_laminar.npz\")[\"laminar\"]\n",
    "#perturbated_time=np.load(\"../laminar_initials/beta0.42525_nu0.00017380418305597015_step0.01_1500chec_10pro_100period.npz\")[\"perturbated_time\"]\n",
    "\n",
    "\n",
    "for i in range(len(arr[:-1,0])):\n",
    "    plt.subplot(len(arr[:-1,0]),1,i+1)\n",
    "    plt.ylabel(f\"u{i+1}\")\n",
    "    #plt.yscale=(\"log\")\n",
    "    plt.plot(np.real(arr[-1,::skip]),abs(arr[i,::skip]),lw=0.5)\n",
    "    # for j in range(len(perturbated_time)):\n",
    "    #     plt.vlines(x=perturbated_time[j], ymin=np.min(abs(arr[i,:])), ymax=np.max(abs(arr[i,:])),colors=\"red\")\n",
    "#plt.savefig(fname=f\"../laminar/nu{runge_para['nu']}_beta{beta}_{runge_para['step']}_{check}check_{progress}progress.png\")"
   ]
  }
 ],
 "metadata": {
  "accelerator": "GPU",
  "colab": {
   "collapsed_sections": [],
   "provenance": []
  },
  "gpuClass": "standard",
  "kernelspec": {
   "display_name": "Python 3 (ipykernel)",
   "language": "python",
   "name": "python3"
  },
  "language_info": {
   "codemirror_mode": {
    "name": "ipython",
    "version": 3
   },
   "file_extension": ".py",
   "mimetype": "text/x-python",
   "name": "python",
   "nbconvert_exporter": "python",
   "pygments_lexer": "ipython3",
   "version": "3.10.10"
  }
 },
 "nbformat": 4,
 "nbformat_minor": 5
}
