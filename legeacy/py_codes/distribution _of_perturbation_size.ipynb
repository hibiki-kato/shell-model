{
 "cells": [
  {
   "cell_type": "code",
   "execution_count": 1,
   "id": "1623a1a9-1c6b-4e45-acbd-1d3cedc85452",
   "metadata": {
    "executionInfo": {
     "elapsed": 2320,
     "status": "ok",
     "timestamp": 1662964760702,
     "user": {
      "displayName": "KATO HIBIKI",
      "userId": "15445130315388485598"
     },
     "user_tz": -540
    },
    "id": "8338c8d5-318b-40ca-a33d-2b95960cd93d",
    "tags": []
   },
   "outputs": [],
   "source": [
    "import numpy as np\n",
    "import matplotlib.pyplot as plt\n",
    "from tqdm import tqdm\n",
    "import math\n",
    "import cmath\n",
    "from numba import njit, f8,i8,c16\n",
    "import numba\n",
    "\n",
    "import sys\n",
    "sys.path.append('../../lb')\n",
    "import RungeKutta_acceralated\n",
    "\n",
    "#パラメーター\n",
    "nu = 0.001\n",
    "f = (1 + 1j) * 5 * 0.001\n",
    "Dimention = 14 #uの次元数\n",
    "q = 2\n",
    "k_0 = 2 ** (-4)\n",
    "k_n = np.zeros((Dimention+4,1))\n",
    "k_n[2:-2,0] = [k_0 * q ** (i+1) for i in range(Dimention)]\n",
    "#print(k_n)\n",
    "\n",
    "c_n_1 = copy.deepcopy(k_n)[2:-2, 0:]\n",
    "c_n_1[-2:, 0:] = np.zeros((2,1))\n",
    "#print(c_n_1)\n",
    "\n",
    "beta = 0.5\n",
    "c_n_2 = copy.deepcopy(k_n)[1:-3, 0:] * -beta\n",
    "c_n_2[-1, 0] = np.zeros((1, 1))\n",
    "# print(c_n_2)\n",
    "\n",
    "c_n_3 = copy.deepcopy(k_n)[:-4, 0:] * (beta - 1)\n",
    "#print(c_n_3)\n",
    "\n",
    "#parameter = [nu,f,k_n,c_n_1,c_n_2,c_n_3]\n",
    "parameter = {\n",
    "    'nu' : nu,\n",
    "    'f' : f,\n",
    "    'k_n' : k_n,\n",
    "    'c_n_1' : c_n_1,\n",
    "    'c_n_2' : c_n_2,\n",
    "    'c_n_3' : c_n_3\n",
    "}\n",
    "#print(parameter)\n",
    "# print(k_n)\n",
    "\n",
    "runge_para = {\n",
    "    'step' : 0.01,\n",
    "    'nu' : nu,\n",
    "    'f' : f,\n",
    "    'k_n' : k_n,\n",
    "    'c_n_1' : c_n_1,\n",
    "    'c_n_2' : c_n_2,\n",
    "    'c_n_3' : c_n_3\n",
    "}\n",
    "\n"
   ]
  },
  {
   "cell_type": "code",
   "execution_count": 2,
   "id": "a9439dff-d303-449e-8a09-de3c0eea98ae",
   "metadata": {
    "tags": []
   },
   "outputs": [],
   "source": [
    "laminar = np.load(\"/Users/hibiki/Downloads/beta0.423_nu0.00017584784643038092_step0.01_1500check_500pro_200000period.npz\")[\"laminar\"]"
   ]
  },
  {
   "cell_type": "code",
   "execution_count": 3,
   "id": "b110d4ea-ac7f-4744-8381-7d70c29367e5",
   "metadata": {
    "tags": []
   },
   "outputs": [],
   "source": [
    "#刻み幅\n",
    "runge_para[\"step\"] = 0.01\n",
    "skip= 1\n",
    "\n",
    "check = 1500\n",
    "progress = 500\n",
    "\n",
    "#nu\n",
    "runge_para[\"nu\"] = 0.00017584784643038092\n",
    "#betaの値に従いc_n_2,c_n_3を更新\n",
    "beta = 0.423\n",
    "\n",
    "#c_n_2\n",
    "runge_para[\"c_n_2\"] = runge_para[\"k_n\"][1:-3, 0:] * -beta\n",
    "runge_para[\"c_n_2\"][-1, 0:] = np.zeros((1, 1))\n",
    "#c_n_3\n",
    "runge_para[\"c_n_3\"] = runge_para[\"k_n\"][:-4, 0:] * (beta - 1)"
   ]
  },
  {
   "cell_type": "code",
   "execution_count": 6,
   "id": "3bb43822-5ebb-4a35-bd45-c67e1e988370",
   "metadata": {
    "tags": []
   },
   "outputs": [],
   "source": [
    "seed = laminar[:-1,49999::50000] # a step before perturbated data\n",
    "raw = np.zeros((laminar[:-1,49999::50000].shape[0],laminar[:-1,49999::50000].shape[1]), dtype=np.complex128) #zero array contain not perturbated data\n",
    "for i in range(laminar[:-1,49999::50000].shape[1]):\n",
    "    raw[:,i:i+1] = RungeKutta_acceralated.RungeKutta.rk4(x=0,y=seed[:,i:i+1], **runge_para, func=RungeKutta_acceralated.RungeKutta.goy_shell_model)\n",
    "\n",
    "a=abs(laminar[:-1,50000::50000] - raw)**2\n",
    "a = np.real(np.sum(a, axis = 0)) ** (1/2)"
   ]
  },
  {
   "cell_type": "code",
   "execution_count": 7,
   "id": "dd199b89-ea49-4a18-a098-326da516462e",
   "metadata": {
    "tags": []
   },
   "outputs": [
    {
     "data": {
      "text/plain": [
       "3.6412038277483415e-07"
      ]
     },
     "execution_count": 7,
     "metadata": {},
     "output_type": "execute_result"
    }
   ],
   "source": [
    "min(a[np.where(a>0)])"
   ]
  },
  {
   "cell_type": "code",
   "execution_count": 16,
   "id": "8b72e3b2-2c99-446d-9675-752d154edd38",
   "metadata": {},
   "outputs": [],
   "source": [
    "data = np.log10(a[np.where(a>0)])"
   ]
  },
  {
   "cell_type": "code",
   "execution_count": 17,
   "id": "3dd4ae44-2ae4-4c20-92d9-053087c07dec",
   "metadata": {
    "collapsed": true,
    "jupyter": {
     "outputs_hidden": true
    }
   },
   "outputs": [
    {
     "data": {
      "text/plain": [
       "array([-3.61519897, -3.93023915, -3.56783304, -4.90082521, -3.70142212,\n",
       "       -3.80943804, -3.57007769, -3.90082959, -4.8353346 , -3.9739255 ,\n",
       "       -4.39258601, -4.36239065, -3.76873088, -3.32851922, -4.44029702,\n",
       "       -4.64199279, -5.28412199, -4.2081811 , -4.66418813, -4.46582586,\n",
       "       -4.35681608, -3.27221534, -3.83788976, -3.00233178, -3.12352009,\n",
       "       -4.28848374, -5.31198909, -3.66823611, -4.08227875, -3.02475006,\n",
       "       -3.04642686, -5.03461998, -3.4905564 , -4.05968388, -4.28402381,\n",
       "       -3.25152729, -4.5743889 , -3.88447727, -4.34820656, -4.51201447,\n",
       "       -5.10635406, -5.84588399, -4.63907418, -5.11038635, -4.61090012,\n",
       "       -5.3736182 , -5.20863274, -4.23259937, -4.55274197, -4.46351555,\n",
       "       -3.07562991, -3.27779886, -5.61029154, -4.60587416, -5.02857099,\n",
       "       -4.76018844, -4.2356499 , -6.39907764, -6.0697589 , -4.70447263,\n",
       "       -4.35039718, -5.05370349, -4.06071893, -4.9487479 , -4.71381582,\n",
       "       -4.45319258, -4.25933322, -6.18715708, -3.30890412, -5.47668403,\n",
       "       -4.59676968, -4.64680253, -3.63505492, -4.59983642, -3.94804772,\n",
       "       -5.31994939, -4.52794607, -5.68669434, -3.62436873, -3.42813589,\n",
       "       -4.58608853, -4.75602343, -4.6860297 , -4.22846339, -3.70141747,\n",
       "       -3.85978339, -4.3254257 , -4.48146251, -3.87027014, -3.97235819,\n",
       "       -3.94860842, -5.57152827, -4.58875345, -5.26620044, -5.24816193,\n",
       "       -4.03472834, -3.31754161, -4.81596934, -4.70952786, -3.86600452,\n",
       "       -4.07335663, -4.16940503, -4.42006286, -5.26757082, -5.28838408,\n",
       "       -3.92796828, -4.02885222, -4.44205136, -4.15246765, -5.16505281,\n",
       "       -4.97124892, -4.30742712, -3.94592976, -4.96933355, -4.77817771,\n",
       "       -4.91841399, -3.9890917 , -4.751777  , -4.44294707, -4.4313423 ,\n",
       "       -4.56195617, -4.46247743, -4.74662322, -4.97995305, -4.39085022,\n",
       "       -4.67063069, -3.682786  , -5.38828299, -4.68242983, -3.95292287,\n",
       "       -5.56188349, -3.95140369, -3.27580448, -4.14907445, -4.02532491,\n",
       "       -4.72475175, -4.78739956, -5.80606055, -3.726667  , -4.32019455,\n",
       "       -4.86300004, -4.09749656, -5.12640218, -3.76993693, -4.1143854 ,\n",
       "       -3.88956419, -4.50949042, -5.19355005, -4.44171831, -4.01808811,\n",
       "       -4.62092455, -5.79869063, -3.17812482, -5.4031248 , -4.22937016,\n",
       "       -4.48043113, -3.65108867, -4.34210126, -4.89360126, -4.30234727,\n",
       "       -4.68023312, -3.22721614, -5.17227945, -4.98410026, -4.49723074,\n",
       "       -5.66991327, -4.77358276, -3.32562121, -4.56332708, -4.66593567,\n",
       "       -3.02702364, -3.41257336, -4.12835783, -4.58005565, -4.87105304,\n",
       "       -5.20680551, -4.88797251, -4.61559184, -3.77712235, -5.19015884,\n",
       "       -4.24665704, -4.54100761, -6.24888734, -4.66711358, -5.72456399,\n",
       "       -3.09029843, -5.03840674, -4.7807745 , -4.99819859, -5.18645045,\n",
       "       -5.11861863, -4.25551386, -4.43002341, -5.43759268, -4.6937586 ,\n",
       "       -4.27525697, -4.11703927, -5.01094093, -3.23054711, -4.86429788,\n",
       "       -5.00453212, -4.71731853, -3.84815274, -4.98081974, -3.47840214,\n",
       "       -4.9685504 , -4.91756519, -5.17745283, -4.22380651, -5.54747479,\n",
       "       -3.05990012, -3.28707916, -4.06419017, -4.37597991, -5.77967806,\n",
       "       -5.30931398, -5.84399941, -3.89905191, -4.78006853, -4.27100627,\n",
       "       -3.55786985, -5.81679308, -4.70087226, -4.05392422, -5.13001227,\n",
       "       -4.42027556, -3.78365661, -3.15629667, -6.43875501, -4.07021399,\n",
       "       -5.27417068, -4.38214521, -6.10974195, -4.6402659 , -4.74464614,\n",
       "       -4.17222726, -4.80365923, -5.69941373, -3.27239116, -4.45012538,\n",
       "       -4.77824122, -4.65539488, -4.45720934, -4.46486857, -4.30825212,\n",
       "       -3.92365749, -4.74890894, -3.92787362, -3.92898357, -4.32000413,\n",
       "       -3.86761769, -4.84675518, -4.17352923, -4.63719409, -4.66663437,\n",
       "       -4.82602714, -6.13295703, -4.56027575, -4.85013721, -4.2698989 ,\n",
       "       -4.69935922, -3.72610055, -4.12691448, -5.45218656, -4.52022826,\n",
       "       -4.57111235, -4.04148833, -5.33580783, -3.93919035, -4.63233178,\n",
       "       -5.62981274, -4.04677074, -5.00619561, -4.3000695 , -5.91323719,\n",
       "       -3.56596389, -3.88452196, -3.22792102, -4.4698656 , -3.8663708 ,\n",
       "       -3.77848634, -5.81912043, -4.5449657 , -5.93124768, -5.32894724,\n",
       "       -5.43304023, -4.57467043, -4.082784  , -4.56914394, -4.22700763,\n",
       "       -4.16408778, -5.55219144, -5.2457869 , -5.76764602, -5.362633  ,\n",
       "       -3.98401932, -4.47448603, -3.57276797, -3.17127199, -3.02761574,\n",
       "       -4.06235137, -5.64409783, -4.14129468, -5.59080646, -5.46308383,\n",
       "       -5.36282241, -4.46174557, -3.74629956, -3.02105839, -5.34971012,\n",
       "       -4.32286117, -4.19550547, -5.43011652, -5.34287386, -4.1200366 ,\n",
       "       -5.09585369, -5.59755668, -4.967881  , -4.25794368, -5.45012606,\n",
       "       -3.45720506, -4.1277115 , -5.58576789, -4.10555628, -5.2570602 ,\n",
       "       -3.59196934, -4.58955749, -4.63927576, -3.31928039, -4.22462592,\n",
       "       -4.30058123, -3.85330167, -4.77311111, -4.8853014 , -4.56542915,\n",
       "       -4.8323    , -5.03621045, -4.46176616, -4.65447467, -4.39076396,\n",
       "       -5.96489401, -3.944425  , -3.97234411, -5.08751875, -4.15203016,\n",
       "       -4.52686011, -5.08502779, -5.45832129, -3.65579354, -3.51427643,\n",
       "       -4.37484848, -3.93514399, -5.0000463 , -3.44291536, -4.36622495,\n",
       "       -6.28524059, -4.78986483, -6.11001709, -4.63291365, -4.63642398,\n",
       "       -5.34687899, -3.02905987, -4.62294907, -4.81567989, -4.01470998,\n",
       "       -3.62948589, -5.83348882, -5.89437707, -4.38618869, -3.68593566,\n",
       "       -4.03206085, -5.06149652, -3.8532024 , -4.75465732, -3.80607167,\n",
       "       -4.11317799, -5.29949067, -4.99047323, -5.08318051, -3.52759259,\n",
       "       -3.44327401, -3.50646362, -5.39525248, -5.21348583])"
      ]
     },
     "execution_count": 17,
     "metadata": {},
     "output_type": "execute_result"
    }
   ],
   "source": [
    "data"
   ]
  },
  {
   "cell_type": "code",
   "execution_count": 23,
   "id": "504492a1-59b9-4b49-a155-7a6843df475d",
   "metadata": {
    "tags": []
   },
   "outputs": [
    {
     "data": {
      "image/png": "[encoded data removed]",
      "text/plain": [
       "<Figure size 640x480 with 1 Axes>"
      ]
     },
     "metadata": {},
     "output_type": "display_data"
    }
   ],
   "source": [
    "plt.ylabel(\"Frequency\")\n",
    "plt.xlabel(\"perturbation scale\")\n",
    "#plt.xscale(\"log\")\n",
    "dense = False\n",
    "plt.hist(data, density=dense,bins=30)\n",
    "plt.savefig(f\"../distribution/perturbation_scale_distribution_beta{beta}_nu={runge_para['nu']}_0.01step.jpg\")"
   ]
  },
  {
   "cell_type": "code",
   "execution_count": 71,
   "id": "7a2865b1-4fd8-41ae-9456-27b5b4d810af",
   "metadata": {
    "tags": []
   },
   "outputs": [],
   "source": [
    "a = laminar[:-1,0] - laminar[:-1,1]\n",
    "a = a * np.conj(a)\n",
    "b = np.real(np.sum(a, axis = 0)**(1/ 2))"
   ]
  },
  {
   "cell_type": "code",
   "execution_count": 72,
   "id": "e3954ead-bb93-4197-a9a4-97015d883dd5",
   "metadata": {
    "tags": []
   },
   "outputs": [
    {
     "data": {
      "text/plain": [
       "0.00035224184122589357"
      ]
     },
     "execution_count": 72,
     "metadata": {},
     "output_type": "execute_result"
    }
   ],
   "source": [
    "b"
   ]
  },
  {
   "cell_type": "code",
   "execution_count": 69,
   "id": "740c63b9-61c2-4fc3-9b51-6964bddb654f",
   "metadata": {
    "tags": []
   },
   "outputs": [],
   "source": [
    "c = np.abs(laminar[:-1,0]) - np.abs(laminar[:-1, 1])\n",
    "c = c * c\n",
    "d = np.sum(c, axis = 0) ** (1/2)"
   ]
  },
  {
   "cell_type": "code",
   "execution_count": 70,
   "id": "8b710640-be89-487c-a7fb-4245bcf06199",
   "metadata": {
    "tags": []
   },
   "outputs": [
    {
     "data": {
      "text/plain": [
       "0.00022491750375836975"
      ]
     },
     "execution_count": 70,
     "metadata": {},
     "output_type": "execute_result"
    }
   ],
   "source": [
    "d"
   ]
  },
  {
   "cell_type": "code",
   "execution_count": 68,
   "id": "e8fd2ede-21d7-43d7-b080-583aa73ff597",
   "metadata": {
    "tags": []
   },
   "outputs": [
    {
     "data": {
      "text/plain": [
       "0.0003522418412258936"
      ]
     },
     "execution_count": 68,
     "metadata": {},
     "output_type": "execute_result"
    }
   ],
   "source": [
    "np.linalg.norm(laminar[:-1,0] - laminar[:-1,1])"
   ]
  },
  {
   "cell_type": "code",
   "execution_count": 63,
   "id": "de3f6f45-32e8-4f42-bf15-97640fe696d8",
   "metadata": {
    "tags": []
   },
   "outputs": [
    {
     "data": {
      "text/plain": [
       "array([2.30104491e-09+6.32857375e-26j, 4.92509068e-09-6.23290403e-26j,\n",
       "       1.11768268e-08-3.39940126e-25j, 7.48933112e-09-2.04155695e-25j,\n",
       "       1.00721907e-09+3.70905139e-26j, 2.98368483e-08+2.95249572e-25j,\n",
       "       3.99269415e-08+3.78960178e-25j, 6.90313917e-09+1.96689098e-26j,\n",
       "       1.42191569e-08+1.25542542e-25j, 5.85049959e-09+5.35183395e-26j,\n",
       "       4.33886209e-10+4.18959633e-27j, 4.33041496e-12+7.35177454e-29j,\n",
       "       8.28697713e-17-1.63727030e-33j, 2.57845418e-22-5.67240113e-39j])"
      ]
     },
     "execution_count": 63,
     "metadata": {},
     "output_type": "execute_result"
    }
   ],
   "source": [
    "np.lina"
   ]
  },
  {
   "cell_type": "code",
   "execution_count": null,
   "id": "bbf3bd4d-cb07-458c-b364-ad0d775dd50f",
   "metadata": {},
   "outputs": [],
   "source": [
    "np.linalg"
   ]
  }
 ],
 "metadata": {
  "kernelspec": {
   "display_name": "Python 3 (ipykernel)",
   "language": "python",
   "name": "python3"
  },
  "language_info": {
   "codemirror_mode": {
    "name": "ipython",
    "version": 3
   },
   "file_extension": ".py",
   "mimetype": "text/x-python",
   "name": "python",
   "nbconvert_exporter": "python",
   "pygments_lexer": "ipython3",
   "version": "3.10.12"
  }
 },
 "nbformat": 4,
 "nbformat_minor": 5
}
