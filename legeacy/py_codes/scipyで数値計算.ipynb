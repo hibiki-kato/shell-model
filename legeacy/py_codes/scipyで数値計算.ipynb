{
 "cells": [
  {
   "cell_type": "code",
   "execution_count": 6,
   "id": "b7935182-b81d-44c2-8bb7-b8fb69abbfa1",
   "metadata": {},
   "outputs": [],
   "source": [
    "import numpy as np\n",
    "import scipy\n",
    "import copy"
   ]
  },
  {
   "cell_type": "code",
   "execution_count": 3,
   "id": "4257d174-be8e-445a-987e-80d6fdb0541c",
   "metadata": {},
   "outputs": [],
   "source": [
    "def cascade(t,value, nu, f, k_n, c_n_1, c_n_2, c_n_3):\n",
    "        delta = np.zeros((len(value),1), dtype = np.complex128)\n",
    "        delta[0,0:] = f\n",
    "\n",
    "        u = np.zeros((len(value)+4, 1), dtype = np.complex128)\n",
    "        u[2:-2,0:]=value #uは両端2個は0,その間にu1~unが入ってる縦array\n",
    "\n",
    "        #微分方程式\n",
    "        ddt_u = (c_n_1 * np.conj(u[3:-1,0:]) * np.conj(u[4:,0:]) + c_n_2 * np.conj(u[1:-3,0:]) * np.conj(u[3:-1,0:]) + c_n_3 * np.conj(u[1:-3,0:]) * np.conj(u[:-4,0:])) * 1j + delta - nu * u[2:-2] * (k_n[2:-2] ** 2)\n",
    "\n",
    "        return ddt_u"
   ]
  },
  {
   "cell_type": "code",
   "execution_count": 7,
   "id": "22a70388-e695-41ee-9eba-109a678c5b99",
   "metadata": {
    "executionInfo": {
     "elapsed": 46,
     "status": "ok",
     "timestamp": 1662965704473,
     "user": {
      "displayName": "KATO HIBIKI",
      "userId": "15445130315388485598"
     },
     "user_tz": -540
    },
    "id": "d9ea2405-1940-4c01-9d1b-51d9a0143e95"
   },
   "outputs": [],
   "source": [
    "#パラメーター\n",
    "nu = 0.001\n",
    "\n",
    "f = (1 + 1j) * 5 * 0.001\n",
    "\n",
    "Dimention = 14 #uの次元数\n",
    "q = 2\n",
    "k_0 = 2 ** (-4)\n",
    "k_n = np.zeros((Dimention+4,1))\n",
    "k_n[2:-2,0] = [k_0 * q ** (i+1) for i in range(Dimention)]\n",
    "#print(k_n)\n",
    "\n",
    "c_n_1 = copy.deepcopy(k_n)[2:-2, 0:]\n",
    "c_n_1[-2:, 0:] = np.zeros((2,1))\n",
    "#print(c_n_1)\n",
    "\n",
    "beta = 0.5\n",
    "c_n_2 = copy.deepcopy(k_n)[1:-3, 0:] * -beta\n",
    "c_n_2[-1, 0] = np.zeros((1, 1))\n",
    "#print(c_n_2)\n",
    "\n",
    "c_n_3 = copy.deepcopy(k_n)[:-4, 0:] * (beta - 1)\n",
    "#print(c_n_3)\n",
    "\n",
    "#parameter = [nu,f,k_n,c_n_1,c_n_2,c_n_3]\n",
    "parameter = {\n",
    "    'nu' : nu,\n",
    "    'f' : f,\n",
    "    'k_n' : k_n,\n",
    "    'c_n_1' : c_n_1,\n",
    "    'c_n_2' : c_n_2,\n",
    "    'c_n_3' : c_n_3\n",
    "}\n",
    "#print(parameter)\n",
    "#print(k_n)"
   ]
  },
  {
   "cell_type": "code",
   "execution_count": 8,
   "id": "8f375125-df02-4eac-a064-cd337f867129",
   "metadata": {
    "id": "472fa825"
   },
   "outputs": [],
   "source": [
    "runge_para = {\n",
    "    'start' :  np.array([\n",
    "        [0.4350E+00 + 0.5008E+00j],\n",
    "        [0.1259E+00 + 0.2437E+00j],\n",
    "        [-0.8312E-01 + -0.4802E-01j],\n",
    "        [0.5164E-01 + -0.1599E+00j],\n",
    "        [-0.1899E+00 + -0.3602E-01j],\n",
    "        [0.4093E-03 + 0.8506E-01j],\n",
    "        [0.9539E-01 + 0.3215E-01j],\n",
    "        [-0.5834E-01 + 0.4433E-01j],\n",
    "        [-0.8790E-02 + 0.2502E-01j],\n",
    "        [0.3385E-02 + 0.1148E-02j],\n",
    "        [-0.7072E-04 + 0.5598E-04j],\n",
    "        [-0.5238E-07 + 0.1467E-06j],\n",
    "        [0.1E-07 + 0.1E-06j],\n",
    "        [0.1E-07 + 0.1E-06j]\n",
    "    ]),\n",
    "    'step' : 0.00025,\n",
    "    'period' : (0,5000),\n",
    "    'nu' : nu,\n",
    "    'f' : f,\n",
    "    'k_n' : k_n,\n",
    "    'c_n_1' : c_n_1,\n",
    "    'c_n_2' : c_n_2,\n",
    "    'c_n_3' : c_n_3\n",
    "}"
   ]
  },
  {
   "cell_type": "code",
   "execution_count": 10,
   "id": "30ad2cd7-d68d-4951-97bd-6514a295c370",
   "metadata": {},
   "outputs": [
    {
     "name": "stdout",
     "output_type": "stream",
     "text": [
      "CPU times: user 3 µs, sys: 0 ns, total: 3 µs\n",
      "Wall time: 6.91 µs\n"
     ]
    },
    {
     "ename": "TypeError",
     "evalue": "float() argument must be a string or a real number, not 'builtin_function_or_method'",
     "output_type": "error",
     "traceback": [
      "\u001b[0;31m---------------------------------------------------------------------------\u001b[0m",
      "\u001b[0;31mTypeError\u001b[0m                                 Traceback (most recent call last)",
      "Cell \u001b[0;32mIn [10], line 2\u001b[0m\n\u001b[1;32m      1\u001b[0m get_ipython()\u001b[38;5;241m.\u001b[39mrun_line_magic(\u001b[38;5;124m'\u001b[39m\u001b[38;5;124mtime\u001b[39m\u001b[38;5;124m'\u001b[39m, \u001b[38;5;124m'\u001b[39m\u001b[38;5;124m'\u001b[39m)\n\u001b[0;32m----> 2\u001b[0m \u001b[43mscipy\u001b[49m\u001b[38;5;241;43m.\u001b[39;49m\u001b[43mintegrate\u001b[49m\u001b[38;5;241;43m.\u001b[39;49m\u001b[43msolve_ivp\u001b[49m\u001b[43m(\u001b[49m\u001b[43mcascade\u001b[49m\u001b[43m,\u001b[49m\u001b[43mt_span\u001b[49m\u001b[38;5;241;43m=\u001b[39;49m\u001b[43m(\u001b[49m\u001b[38;5;241;43m0\u001b[39;49m\u001b[43m,\u001b[49m\u001b[38;5;241;43m10000\u001b[39;49m\u001b[43m)\u001b[49m\u001b[43m,\u001b[49m\u001b[43my0\u001b[49m\u001b[38;5;241;43m=\u001b[39;49m\u001b[43mrunge_para\u001b[49m\u001b[43m[\u001b[49m\u001b[38;5;124;43m\"\u001b[39;49m\u001b[38;5;124;43mstart\u001b[39;49m\u001b[38;5;124;43m\"\u001b[39;49m\u001b[43m]\u001b[49m\u001b[38;5;241;43m.\u001b[39;49m\u001b[43mravel\u001b[49m\u001b[43m,\u001b[49m\u001b[43m \u001b[49m\u001b[43mmethod\u001b[49m\u001b[38;5;241;43m=\u001b[39;49m\u001b[38;5;124;43m'\u001b[39;49m\u001b[38;5;124;43mRK45\u001b[39;49m\u001b[38;5;124;43m'\u001b[39;49m\u001b[43m,\u001b[49m\u001b[43m \u001b[49m\u001b[43mt_eval\u001b[49m\u001b[38;5;241;43m=\u001b[39;49m\u001b[38;5;28;43;01mNone\u001b[39;49;00m\u001b[43m,\u001b[49m\n\u001b[1;32m      3\u001b[0m \u001b[43m                          \u001b[49m\u001b[43mdense_output\u001b[49m\u001b[38;5;241;43m=\u001b[39;49m\u001b[38;5;28;43;01mFalse\u001b[39;49;00m\u001b[43m,\u001b[49m\u001b[43m \u001b[49m\u001b[43mevents\u001b[49m\u001b[38;5;241;43m=\u001b[39;49m\u001b[38;5;28;43;01mNone\u001b[39;49;00m\u001b[43m,\u001b[49m\u001b[43m \u001b[49m\u001b[43mvectorized\u001b[49m\u001b[38;5;241;43m=\u001b[39;49m\u001b[38;5;28;43;01mFalse\u001b[39;49;00m\u001b[43m,\u001b[49m\n\u001b[1;32m      4\u001b[0m \u001b[43m                          \u001b[49m\u001b[43margs\u001b[49m\u001b[38;5;241;43m=\u001b[39;49m\u001b[43m(\u001b[49m\u001b[43mnu\u001b[49m\u001b[43m,\u001b[49m\u001b[43mf\u001b[49m\u001b[43m,\u001b[49m\u001b[43mk_n\u001b[49m\u001b[43m,\u001b[49m\u001b[43mc_n_1\u001b[49m\u001b[43m,\u001b[49m\u001b[43mc_n_2\u001b[49m\u001b[43m,\u001b[49m\u001b[43mc_n_3\u001b[49m\u001b[43m)\u001b[49m\u001b[43m)\u001b[49m\n",
      "File \u001b[0;32m~/miniforge3/lib/python3.10/site-packages/scipy/integrate/_ivp/ivp.py:555\u001b[0m, in \u001b[0;36msolve_ivp\u001b[0;34m(fun, t_span, y0, method, t_eval, dense_output, events, vectorized, args, **options)\u001b[0m\n\u001b[1;32m    552\u001b[0m \u001b[38;5;28;01mif\u001b[39;00m method \u001b[38;5;129;01min\u001b[39;00m METHODS:\n\u001b[1;32m    553\u001b[0m     method \u001b[38;5;241m=\u001b[39m METHODS[method]\n\u001b[0;32m--> 555\u001b[0m solver \u001b[38;5;241m=\u001b[39m \u001b[43mmethod\u001b[49m\u001b[43m(\u001b[49m\u001b[43mfun\u001b[49m\u001b[43m,\u001b[49m\u001b[43m \u001b[49m\u001b[43mt0\u001b[49m\u001b[43m,\u001b[49m\u001b[43m \u001b[49m\u001b[43my0\u001b[49m\u001b[43m,\u001b[49m\u001b[43m \u001b[49m\u001b[43mtf\u001b[49m\u001b[43m,\u001b[49m\u001b[43m \u001b[49m\u001b[43mvectorized\u001b[49m\u001b[38;5;241;43m=\u001b[39;49m\u001b[43mvectorized\u001b[49m\u001b[43m,\u001b[49m\u001b[43m \u001b[49m\u001b[38;5;241;43m*\u001b[39;49m\u001b[38;5;241;43m*\u001b[39;49m\u001b[43moptions\u001b[49m\u001b[43m)\u001b[49m\n\u001b[1;32m    557\u001b[0m \u001b[38;5;28;01mif\u001b[39;00m t_eval \u001b[38;5;129;01mis\u001b[39;00m \u001b[38;5;28;01mNone\u001b[39;00m:\n\u001b[1;32m    558\u001b[0m     ts \u001b[38;5;241m=\u001b[39m [t0]\n",
      "File \u001b[0;32m~/miniforge3/lib/python3.10/site-packages/scipy/integrate/_ivp/rk.py:89\u001b[0m, in \u001b[0;36mRungeKutta.__init__\u001b[0;34m(self, fun, t0, y0, t_bound, max_step, rtol, atol, vectorized, first_step, **extraneous)\u001b[0m\n\u001b[1;32m     85\u001b[0m \u001b[38;5;28;01mdef\u001b[39;00m \u001b[38;5;21m__init__\u001b[39m(\u001b[38;5;28mself\u001b[39m, fun, t0, y0, t_bound, max_step\u001b[38;5;241m=\u001b[39mnp\u001b[38;5;241m.\u001b[39minf,\n\u001b[1;32m     86\u001b[0m              rtol\u001b[38;5;241m=\u001b[39m\u001b[38;5;241m1e-3\u001b[39m, atol\u001b[38;5;241m=\u001b[39m\u001b[38;5;241m1e-6\u001b[39m, vectorized\u001b[38;5;241m=\u001b[39m\u001b[38;5;28;01mFalse\u001b[39;00m,\n\u001b[1;32m     87\u001b[0m              first_step\u001b[38;5;241m=\u001b[39m\u001b[38;5;28;01mNone\u001b[39;00m, \u001b[38;5;241m*\u001b[39m\u001b[38;5;241m*\u001b[39mextraneous):\n\u001b[1;32m     88\u001b[0m     warn_extraneous(extraneous)\n\u001b[0;32m---> 89\u001b[0m     \u001b[38;5;28;43msuper\u001b[39;49m\u001b[43m(\u001b[49m\u001b[43m)\u001b[49m\u001b[38;5;241;43m.\u001b[39;49m\u001b[38;5;21;43m__init__\u001b[39;49m\u001b[43m(\u001b[49m\u001b[43mfun\u001b[49m\u001b[43m,\u001b[49m\u001b[43m \u001b[49m\u001b[43mt0\u001b[49m\u001b[43m,\u001b[49m\u001b[43m \u001b[49m\u001b[43my0\u001b[49m\u001b[43m,\u001b[49m\u001b[43m \u001b[49m\u001b[43mt_bound\u001b[49m\u001b[43m,\u001b[49m\u001b[43m \u001b[49m\u001b[43mvectorized\u001b[49m\u001b[43m,\u001b[49m\n\u001b[1;32m     90\u001b[0m \u001b[43m                     \u001b[49m\u001b[43msupport_complex\u001b[49m\u001b[38;5;241;43m=\u001b[39;49m\u001b[38;5;28;43;01mTrue\u001b[39;49;00m\u001b[43m)\u001b[49m\n\u001b[1;32m     91\u001b[0m     \u001b[38;5;28mself\u001b[39m\u001b[38;5;241m.\u001b[39my_old \u001b[38;5;241m=\u001b[39m \u001b[38;5;28;01mNone\u001b[39;00m\n\u001b[1;32m     92\u001b[0m     \u001b[38;5;28mself\u001b[39m\u001b[38;5;241m.\u001b[39mmax_step \u001b[38;5;241m=\u001b[39m validate_max_step(max_step)\n",
      "File \u001b[0;32m~/miniforge3/lib/python3.10/site-packages/scipy/integrate/_ivp/base.py:119\u001b[0m, in \u001b[0;36mOdeSolver.__init__\u001b[0;34m(self, fun, t0, y0, t_bound, vectorized, support_complex)\u001b[0m\n\u001b[1;32m    117\u001b[0m \u001b[38;5;28mself\u001b[39m\u001b[38;5;241m.\u001b[39mt_old \u001b[38;5;241m=\u001b[39m \u001b[38;5;28;01mNone\u001b[39;00m\n\u001b[1;32m    118\u001b[0m \u001b[38;5;28mself\u001b[39m\u001b[38;5;241m.\u001b[39mt \u001b[38;5;241m=\u001b[39m t0\n\u001b[0;32m--> 119\u001b[0m \u001b[38;5;28mself\u001b[39m\u001b[38;5;241m.\u001b[39m_fun, \u001b[38;5;28mself\u001b[39m\u001b[38;5;241m.\u001b[39my \u001b[38;5;241m=\u001b[39m \u001b[43mcheck_arguments\u001b[49m\u001b[43m(\u001b[49m\u001b[43mfun\u001b[49m\u001b[43m,\u001b[49m\u001b[43m \u001b[49m\u001b[43my0\u001b[49m\u001b[43m,\u001b[49m\u001b[43m \u001b[49m\u001b[43msupport_complex\u001b[49m\u001b[43m)\u001b[49m\n\u001b[1;32m    120\u001b[0m \u001b[38;5;28mself\u001b[39m\u001b[38;5;241m.\u001b[39mt_bound \u001b[38;5;241m=\u001b[39m t_bound\n\u001b[1;32m    121\u001b[0m \u001b[38;5;28mself\u001b[39m\u001b[38;5;241m.\u001b[39mvectorized \u001b[38;5;241m=\u001b[39m vectorized\n",
      "File \u001b[0;32m~/miniforge3/lib/python3.10/site-packages/scipy/integrate/_ivp/base.py:14\u001b[0m, in \u001b[0;36mcheck_arguments\u001b[0;34m(fun, y0, support_complex)\u001b[0m\n\u001b[1;32m     12\u001b[0m \u001b[38;5;28;01melse\u001b[39;00m:\n\u001b[1;32m     13\u001b[0m     dtype \u001b[38;5;241m=\u001b[39m \u001b[38;5;28mfloat\u001b[39m\n\u001b[0;32m---> 14\u001b[0m y0 \u001b[38;5;241m=\u001b[39m \u001b[43my0\u001b[49m\u001b[38;5;241;43m.\u001b[39;49m\u001b[43mastype\u001b[49m\u001b[43m(\u001b[49m\u001b[43mdtype\u001b[49m\u001b[43m,\u001b[49m\u001b[43m \u001b[49m\u001b[43mcopy\u001b[49m\u001b[38;5;241;43m=\u001b[39;49m\u001b[38;5;28;43;01mFalse\u001b[39;49;00m\u001b[43m)\u001b[49m\n\u001b[1;32m     16\u001b[0m \u001b[38;5;28;01mif\u001b[39;00m y0\u001b[38;5;241m.\u001b[39mndim \u001b[38;5;241m!=\u001b[39m \u001b[38;5;241m1\u001b[39m:\n\u001b[1;32m     17\u001b[0m     \u001b[38;5;28;01mraise\u001b[39;00m \u001b[38;5;167;01mValueError\u001b[39;00m(\u001b[38;5;124m\"\u001b[39m\u001b[38;5;124m`y0` must be 1-dimensional.\u001b[39m\u001b[38;5;124m\"\u001b[39m)\n",
      "\u001b[0;31mTypeError\u001b[0m: float() argument must be a string or a real number, not 'builtin_function_or_method'"
     ]
    }
   ],
   "source": [
    "%time\n",
    "scipy.integrate.solve_ivp(cascade,t_span=(0,10000),y0=runge_para[\"start\"].ravel, method='RK45', t_eval=None,\n",
    "                          dense_output=False, events=None, vectorized=False,\n",
    "                          args=(nu,f,k_n,c_n_1,c_n_2,c_n_3))"
   ]
  }
 ],
 "metadata": {
  "kernelspec": {
   "display_name": "Python 3 (ipykernel)",
   "language": "python",
   "name": "python3"
  },
  "language_info": {
   "codemirror_mode": {
    "name": "ipython",
    "version": 3
   },
   "file_extension": ".py",
   "mimetype": "text/x-python",
   "name": "python",
   "nbconvert_exporter": "python",
   "pygments_lexer": "ipython3",
   "version": "3.10.6"
  }
 },
 "nbformat": 4,
 "nbformat_minor": 5
}
