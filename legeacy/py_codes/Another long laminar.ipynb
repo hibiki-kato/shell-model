{
 "cells": [
  {
   "cell_type": "code",
   "execution_count": null,
   "id": "1623a1a9-1c6b-4e45-acbd-1d3cedc85452",
   "metadata": {
    "executionInfo": {
     "elapsed": 2320,
     "status": "ok",
     "timestamp": 1662964760702,
     "user": {
      "displayName": "KATO HIBIKI",
      "userId": "15445130315388485598"
     },
     "user_tz": -540
    },
    "id": "8338c8d5-318b-40ca-a33d-2b95960cd93d",
    "tags": []
   },
   "outputs": [],
   "source": [
    "import numpy as np\n",
    "import matplotlib.pyplot as plt\n",
    "from tqdm import tqdm\n",
    "import math\n",
    "import cmath\n",
    "from numba import njit, f8,i8,c16\n",
    "import numba\n",
    "import matplotlib.animation as animation\n",
    "import copy\n",
    "import matplotlib\n",
    "import random\n",
    "import concurrent\n",
    "import func_for_paralell\n",
    "import Another_RungeKutta\n",
    "\n",
    "import sys\n",
    "sys.path.append('../../lb')\n",
    "import RungeKutta_acceralated\n",
    "\n",
    "#パラメーター\n",
    "nu = 0.001\n",
    "f = (1 + 1j) * 5 * 0.001\n",
    "Dimention = 14 #uの次元数\n",
    "q = 2\n",
    "k_0 = 2 ** (-4)\n",
    "k_n = np.zeros((Dimention+4,1))\n",
    "k_n[2:-2,0] = [k_0 * q ** (i+1) for i in range(Dimention)]\n",
    "#print(k_n)\n",
    "\n",
    "c_n_1 = copy.deepcopy(k_n)[2:-2, 0:]\n",
    "c_n_1[-2:, 0:] = np.zeros((2,1))\n",
    "#print(c_n_1)\n",
    "\n",
    "beta = 0.5\n",
    "c_n_2 = copy.deepcopy(k_n)[1:-3, 0:] * -beta\n",
    "c_n_2[-1, 0] = np.zeros((1, 1))\n",
    "# print(c_n_2)\n",
    "\n",
    "c_n_3 = copy.deepcopy(k_n)[:-4, 0:] * (beta - 1)\n",
    "#print(c_n_3)\n",
    "\n",
    "#parameter = [nu,f,k_n,c_n_1,c_n_2,c_n_3]\n",
    "parameter = {\n",
    "    'nu' : nu,\n",
    "    'f' : f,\n",
    "    'k_n' : k_n,\n",
    "    'c_n_1' : c_n_1,\n",
    "    'c_n_2' : c_n_2,\n",
    "    'c_n_3' : c_n_3\n",
    "}\n",
    "#print(parameter)\n",
    "# print(k_n)\n",
    "\n",
    "runge_para = {\n",
    "    'start' :  np.load(\"14次元初期値.npy\"),\n",
    "    'step' : 0.01,\n",
    "    'period' : np.array([0,5000]),\n",
    "    'nu' : nu,\n",
    "    'f' : f,\n",
    "    'k_n' : k_n,\n",
    "    'c_n_1' : c_n_1,\n",
    "    'c_n_2' : c_n_2,\n",
    "    'c_n_3' : c_n_3\n",
    "}\n",
    "\n"
   ]
  },
  {
   "cell_type": "markdown",
   "id": "de54da31-1ad6-499a-bbd2-cdceeb2a31a7",
   "metadata": {
    "tags": []
   },
   "source": [
    "# コンテスト"
   ]
  },
  {
   "cell_type": "code",
   "execution_count": null,
   "id": "10d1bf80",
   "metadata": {
    "id": "10d1bf80",
    "jupyter": {
     "source_hidden": true
    },
    "outputId": "3e97d718-a83b-47d3-e015-66a396352190",
    "tags": []
   },
   "outputs": [],
   "source": [
    "%%time\n",
    "runge_para[\"period\"]=(0,5000)\n",
    "\n",
    "#刻み幅\n",
    "runge_para[\"step\"] = 0.01\n",
    "skip= 10\n",
    "competitives = 10\n",
    "\n",
    "plt.figure(figsize=(60,5))\n",
    "\n",
    "runge_para['start'] = np.load(\"beta0.473_nu0.0001305_0.0114dim.npy\")\n",
    "\n",
    "#nu\n",
    "runge_para[\"nu\"] = 0.00013095454545454546\n",
    "#betaの値に従いc_n_2,c_n_3を更新\n",
    "beta= 0.4745151515151515\n",
    "\n",
    "#c_n_2\n",
    "runge_para[\"c_n_2\"] = runge_para[\"k_n\"][1:-3, 0:] * -beta\n",
    "runge_para[\"c_n_2\"][-1, 0:] = np.zeros((1, 1))\n",
    "\n",
    "#c_n_3\n",
    "runge_para[\"c_n_3\"] = runge_para[\"k_n\"][:-4, 0:] * (beta - 1)\n",
    "\n",
    "#摂動を与えた初期値のリスト\n",
    "starts = np.zeros((14,competitives))\n",
    "starts = starts.astype(np.complex128)\n",
    "\n",
    "lmodel = Long_laminar() #インスタンス化\n",
    "starts[:,0:1] = runge_para[\"start\"]\n",
    "for i in range(competitives - 1):\n",
    "    starts[:,i+1:i+2] = Long_laminar.perturbator(runge_para[\"start\"])\n",
    "\n",
    "#ラミナーから出た極大値の時間\n",
    "times = np.zeros((competitives,1))\n",
    "\n",
    "for i in tqdm(range(competitives)):\n",
    "    cut_arr = np.zeros((Dimention+1,1))\n",
    "    \n",
    "    runge_para['start'] = starts[:,i:i+1]\n",
    "    #インスタンス化&実行\n",
    "    model = RungeKutta_acceralated.RungeKutta()\n",
    "    model.get_arr_latter(**runge_para, latter = 1)\n",
    "    #プロット\n",
    "    plt.subplot(1,1,1)\n",
    "    plt.ylabel(f\"u{1}\")\n",
    "    plt.yscale=(\"log\")\n",
    "    plt.plot(np.real(model.arr_latter[-1,::skip]),abs(model.arr_latter[0,::skip]),lw=0.5)\n",
    "    \n",
    "#     #極大抽出\n",
    "#     cut_arr = loc_max_7(model.arr_latter,cut_arr)\n",
    "    \n",
    "#     for j in range(len(cut_arr[0,:])):\n",
    "#         if not ((0.52 < cut_arr[0,j] < 0.68 or 0.78 < cut_arr[0,j] < 1) \n",
    "#             and (0.02 < cut_arr[1,j] < 0.13 or 0.19 < cut_arr[1,j] < 0.34)\n",
    "#             and (0.12 < cut_arr[2,j] < 0.26 or 0.36 < cut_arr[2,j] < 0.48)\n",
    "#             and (0.17 < cut_arr[3,j] < 0.24 or 0.25 < cut_arr[3,j] < 0.32 or 0.34 < cut_arr[3,j] < 0.42)\n",
    "#             and (0.08 < cut_arr[4,j] < 0.2 or 0.28 < cut_arr[4,j] < 0.35)\n",
    "#             and (0.05 < cut_arr[5,j] < 0.115 or 0.12 < cut_arr[5,j] < 0.155)\n",
    "#             and (0.03 < cut_arr[6,j] < 0.07 or 0.1 < cut_arr[6,j] < 0.22)\n",
    "#             and (0.02 < cut_arr[7,j] < 0.08 or 0.104 < cut_arr[7,j] <0.144)\n",
    "#             and (0.014 < cut_arr[8,j] < 0.078)\n",
    "#             and (0 < cut_arr[9,j] < 0.036 or 0.048 < cut_arr[9,j] < 0.076 or 0.084 < cut_arr[9,j] < 0.1)\n",
    "#             and (0 < cut_arr[10,j] < 0.014 or 0.02 < cut_arr[10,j] < 0.038 or 0.046 < cut_arr[10,j] < 0.068)\n",
    "#             and (0 < cut_arr[11,j] < 0.002 or 0.003 < cut_arr[11,j] < 0.0095 or 0.0135 < cut_arr[11,j] < 0.0225)\n",
    "#             and (0 < cut_arr[12,j] < 0.0006 or 0.001 < cut_arr[12,j] < 0.0024)\n",
    "#             and (0 < cut_arr[13,j] < 0.000005 or 0.00001 < cut_arr[13,j] < 0.000045)):\n",
    "#             times[i,0] = cut_arr[-1,j]\n",
    "#             break\n",
    "            \n",
    "#plt.savefig(fname=f\"../laminar/contest_a=-8_b=-15_nu{runge_para['nu']}_beta{beta}_{runge_para['step']}_{Dimention}dim.png\")\n",
    "\n",
    "# print(np.mean(times))\n",
    "# print(np.std(times))\n",
    "# print(np.min(times))\n",
    "# print(np.max(times))"
   ]
  },
  {
   "cell_type": "markdown",
   "id": "ff2a13e1-7023-45cd-87d2-864668f07af2",
   "metadata": {
    "tags": []
   },
   "source": [
    "# ラミナー読み込み"
   ]
  },
  {
   "cell_type": "code",
   "execution_count": null,
   "id": "4c2ca2e0-fb8f-4298-971b-f663392da6e5",
   "metadata": {
    "tags": []
   },
   "outputs": [],
   "source": [
    "laminar = np.load(\"../laminar_initials/beta0.423_nu0.00017584784643038092_step0.01_1500check_500pro_20000period.npz\")[\"laminar\"][:,:500000:200]\n",
    "plt.scatter(range(laminar.shape[1]),abs(laminar[0,:]))"
   ]
  },
  {
   "cell_type": "markdown",
   "id": "e2df4817-5fa9-4184-910f-7f0c74ec81ff",
   "metadata": {
    "jp-MarkdownHeadingCollapsed": true,
    "tags": []
   },
   "source": [
    "# アップデート"
   ]
  },
  {
   "cell_type": "code",
   "execution_count": null,
   "id": "12174a11-d781-4cf0-b326-044a21296d8b",
   "metadata": {
    "tags": []
   },
   "outputs": [],
   "source": [
    "#並列ver.\n",
    "#ある程度持続すれば更新\n",
    "runge_para[\"period\"]=np.array([0,3000])\n",
    "competitives = 100\n",
    "\n",
    "#刻み幅\n",
    "runge_para[\"step\"] = 0.01\n",
    "runge_para['start'] = laminar[:,:1]\n",
    "\n",
    "\n",
    "plus = 1E-4\n",
    "#nu\n",
    "runge_para[\"nu\"] = 0.00011871562745803017\n",
    "beta= 0.4671099999999965\n",
    "\n",
    "skip=100\n",
    "epsilon=1E-2\n",
    "\n",
    "model = RungeKutta_acceralated.RungeKutta()\n",
    "lmodel = RungeKutta_acceralated.Long_laminar()\n",
    "\n",
    "while True:\n",
    "    if beta > 0.5:\n",
    "        break\n",
    "    #betaの値に従いc_n_2,]}}c_n_3を更新\n",
    "    #c_n_2\n",
    "    runge_para[\"c_n_2\"] = runge_para[\"k_n\"][1:-3, 0:] * -beta\n",
    "    runge_para[\"c_n_2\"][-1, 0:] = np.zeros((1, 1))\n",
    "\n",
    "    #c_n_3\n",
    "    runge_para[\"c_n_3\"] = runge_para[\"k_n\"][:-4, 0:] * (beta - 1)\n",
    "    for _ in range(4):\n",
    "        with concurrent.futures.ProcessPoolExecutor(max_workers = 8) as executor: \n",
    "            task1 = executor.submit(func_for_paralell.competition2, runge_para, competitives, laminar, skip, epsilon)\n",
    "            task2 = executor.submit(func_for_paralell.competition2, runge_para, competitives, laminar, skip, epsilon)\n",
    "            task3 = executor.submit(func_for_paralell.competition2, runge_para, competitives, laminar, skip, epsilon)\n",
    "            task4 = executor.submit(func_for_paralell.competition2, runge_para, competitives, laminar, skip, epsilon)\n",
    "            # task5 = executor.submit(func_for_paralell.competition2, runge_para, competitives, laminar, skip, epsilon)\n",
    "            # task6 = executor.submit(func_for_paralell.competition2, runge_para, competitives, laminar, skip, epsilon)\n",
    "            # task7 = executor.submit(func_for_paralell.competition2, runge_para, competitives, laminar, skip, epsilon)\n",
    "            \n",
    "            times1, starts1, nus1 = task1.result()\n",
    "            times2, starts2, nus2 = task2.result()\n",
    "            times3, starts3, nus3 = task3.result()\n",
    "            times4, starts4, nus4 = task4.result()\n",
    "            # times5, starts5, nus5 = task5.result()\n",
    "            # times6, starts6, nus6 = task6.result()\n",
    "            # times7, starts7, nus7 = task7.result()\n",
    "        times = np.concatenate([times1, times2, times3, times4])\n",
    "        starts = np.concatenate((starts1, starts2, starts3, starts4), axis=1)\n",
    "        nus = np.concatenate([nus1, nus2, nus3, nus4])\n",
    "\n",
    "        # times = np.concatenate([times1, times2, times3, times4, times5, times6, times7])\n",
    "        # starts = np.concatenate((starts1, starts2, starts3, starts4, starts5, starts6, starts7), axis=1)\n",
    "        # nus = np.concatenate([nus1, nus2, nus3, nus4, nus5, nus6, nus7])\n",
    "        runge_para['nu'] = nus[np.argmax(times)]\n",
    "        runge_para['start'] = starts[:, np.argmax(times):np.argmax(times)+1]\n",
    "        print(max(times))\n",
    "        if max(times) > runge_para[\"period\"][1]*0.99:\n",
    "            break\n",
    "    if max(times) > 1000:\n",
    "        np.save(f\"../laminar_initials/beta{beta}_nu{runge_para['nu']}_step{runge_para['step']}_{int(max(times))}period_laminar\", runge_para[\"start\"])\n",
    "    print(f\"beta={beta}, nu = {runge_para['nu']} time = {max(times)}\")\n",
    "    model.get_arr_latter(**runge_para,latter = 1)\n",
    "    plt.clf()\n",
    "    plt.figure(figsize=(40,5))\n",
    "    plt.plot(abs(model.arr_latter[-1,:]),abs(model.arr_latter[0,:]))\n",
    "    plt.show()\n",
    "    laminar = model.arr_latter[:-1,:round(model.arr_latter.shape[1]/10):10]\n",
    "    beta += plus"
   ]
  },
  {
   "cell_type": "markdown",
   "id": "b0457062-2f3e-4f44-a1c1-0f803cabd542",
   "metadata": {
    "tags": []
   },
   "source": [
    "# ラミナーに留まる(長時間)"
   ]
  },
  {
   "cell_type": "markdown",
   "id": "9c1197bf-0119-4a66-9be1-8daec48340b8",
   "metadata": {
    "tags": []
   },
   "source": [
    "## stagger and step"
   ]
  },
  {
   "cell_type": "code",
   "execution_count": null,
   "id": "6092766c-95a0-4648-bd92-b1dfd88161fc",
   "metadata": {
    "tags": []
   },
   "outputs": [],
   "source": []
  },
  {
   "cell_type": "code",
   "execution_count": null,
   "id": "4e49ae7a-4cc6-40de-b986-b41808e49381",
   "metadata": {
    "collapsed": true,
    "jupyter": {
     "outputs_hidden": true
    },
    "tags": []
   },
   "outputs": [],
   "source": [
    "%%time\n",
    "runge_para[\"period\"]=np.array([13000,20000])\n",
    "\n",
    "#刻み幅\n",
    "runge_para[\"step\"] = 0.01\n",
    "skip= 100\n",
    "\n",
    "check =  3000\n",
    "progress =  500\n",
    "\n",
    "runge_para['start'] = lmodel.arr[:-1,-50001:-50000]\n",
    "#nu\n",
    "runge_para[\"nu\"] = 0.00011871562745803017\n",
    "#betaの値に従いc_n_2,]}}c_n_3を更新\n",
    "beta= 0.46711\n",
    "\n",
    "#c_n_2\n",
    "runge_para[\"c_n_2\"] = runge_para[\"k_n\"][1:-3, 0:] * -beta\n",
    "runge_para[\"c_n_2\"][-1, 0:] = np.zeros((1, 1))\n",
    "#c_n_3\n",
    "runge_para[\"c_n_3\"] = runge_para[\"k_n\"][:-4, 0:] * (beta - 1)\n",
    "lmodel = Another_RungeKutta.Long_laminar()\n",
    "lmodel.get_laminar(**runge_para, check_sec = check, progress_sec = progress, laminar = laminar, skip = 100, epsilon=1E-1)\n",
    "\n",
    "np.savez_compressed(f\"../laminar/beta{beta}_nu{runge_para['nu']}_step{runge_para['step']}_{check}check_{progress}pro_{round(abs(lmodel.arr[-1,-1]))}period\",start = lmodel.arr[:-1,0:1], laminar = lmodel.arr)"
   ]
  },
  {
   "cell_type": "code",
   "execution_count": null,
   "id": "003b70ef-e923-481b-ac5e-d75f0ec82a3d",
   "metadata": {
    "tags": []
   },
   "outputs": [],
   "source": [
    "skip=1\n",
    "plt.figure(figsize=(30,40))\n",
    "\n",
    "for i in range(len(lmodel.arr[:-1,0])):\n",
    "    plt.subplot(len(lmodel.arr[:-1,0]),1,i+1)\n",
    "    plt.ylabel(f\"u{i+1}\")\n",
    "    #plt.yscale=(\"log\")\n",
    "    plt.plot(np.real(lmodel.arr[-1,::skip]),abs(lmodel.arr[i,::skip]),lw=0.5)\n",
    "    for j in range(len(lmodel.perturbated_time)):\n",
    "        plt.vlines(x=lmodel.perturbated_time[j], ymin=np.min(abs(lmodel.arr[i,:])), ymax=np.max(abs(lmodel.arr[i,:])),colors=\"red\")\n",
    "#plt.savefig(fname=f\"../laminar/nu{runge_para['nu']}_beta{beta}_{runge_para['step']}_{check}check_{progress}progress.png\")"
   ]
  },
  {
   "cell_type": "code",
   "execution_count": null,
   "id": "09d62a7c-9816-4a0c-8526-8eee398f1056",
   "metadata": {
    "jp-MarkdownHeadingCollapsed": true,
    "tags": []
   },
   "outputs": [],
   "source": [
    "a, b = 3, 4\n",
    "fig = plt.figure()\n",
    "ax = plt.subplot(1,1,1)\n",
    "ax.set_xlabel(f\"u{a+1}\")\n",
    "ax.set_ylabel(f'u{b+1}')\n",
    "ax.set_xscale(\"log\")\n",
    "ax.set_yscale(\"log\")\n",
    "ax.plot(np.abs(lmodel.arr[a,:]),np.abs(lmodel.arr[b,:]),lw=0.1)\n",
    "#plt.savefig(f\"../laminar/nu{runge_para['nu']}_beta{beta}_{runge_para['step']}_{check}check_{progress}progress_u{a+1}&{b+1}.png\")"
   ]
  },
  {
   "cell_type": "markdown",
   "id": "aff3a614-6ad8-4518-9123-f1cc9fa61346",
   "metadata": {
    "tags": []
   },
   "source": [
    "## 初期値の調整"
   ]
  },
  {
   "cell_type": "code",
   "execution_count": null,
   "id": "0fe2cde8-91e6-4cb7-9988-a82974684932",
   "metadata": {},
   "outputs": [],
   "source": [
    "e = int(len(zenkai[0,:])//100*50)\n",
    "runge_para['start'] = zenkai[:-1,e:e+1]"
   ]
  },
  {
   "cell_type": "code",
   "execution_count": null,
   "id": "2f504737-1730-40e8-873b-1a43e980df0a",
   "metadata": {
    "tags": []
   },
   "outputs": [],
   "source": [
    "d = 46\n",
    "runge_para['start'] = model.arr_latter[:-1,int(len(model.arr_latter[0,:])//100*d):int(len(model.arr_latter[0,:])//100*d)+1]"
   ]
  },
  {
   "cell_type": "code",
   "execution_count": null,
   "id": "70dc5901-4ee9-42fe-aa63-e09eb62fdced",
   "metadata": {
    "tags": []
   },
   "outputs": [],
   "source": [
    "runge_para['start'] = np.load(\"beta0.47"
   ]
  },
  {
   "cell_type": "code",
   "execution_count": null,
   "id": "3ab39268-a72e-4381-9c23-d02a9eec7d7a",
   "metadata": {
    "id": "10d1bf80",
    "outputId": "3e97d718-a83b-47d3-e015-66a396352190",
    "tags": []
   },
   "outputs": [],
   "source": [
    "# 縦軸に各変数、横軸時間　×次元数\n",
    "runge_para[\"period\"]=(0,10000)\n",
    "\n",
    "#刻み幅\n",
    "runge_para[\"step\"] = 0.01\n",
    "\n",
    "skip=100\n",
    "\n",
    "#nu\n",
    "runge_para[\"nu\"] = 0.0001307878787878788\n",
    "#betaの値に従いc_n_2,c_n_3を更新\n",
    "beta = 0.4739595959595959\n",
    "\n",
    "\n",
    "#c_n_2\n",
    "runge_para[\"c_n_2\"] = runge_para[\"k_n\"][1:-3, 0:] * -beta\n",
    "runge_para[\"c_n_2\"][-1, 0:] = np.zeros((1, 1))\n",
    "\n",
    "#c_n_3\n",
    "runge_para[\"c_n_3\"] = runge_para[\"k_n\"][:-4, 0:] * (beta - 1)\n",
    "\n",
    "#インスタンス化\n",
    "model = RungeKutta_acceralated.RungeKutta()\n",
    "model.get_arr_latter(**runge_para,latter=1)\n",
    "\n",
    "plt.figure(figsize=(20,30))\n",
    "for i in range(Dimention):\n",
    "    plt.subplot(Dimention,1,i+1)\n",
    "    plt.ylabel(f\"u{i+1}\")\n",
    "    #plt.yscale=(\"log\")\n",
    "    plt.plot(np.real(model.arr_latter[-1,::skip]),abs(model.arr_latter[i,::skip]),lw=1)\n",
    "    if runge_para[\"period\"][1] == 100000:\n",
    "        plt.xticks(np.arange(0,100000,5000))\n",
    "\n",
    "\n",
    "#plt.savefig(fname=f\"../attracter/nu{runge_para['nu']}_beta{beta}_{runge_para['step']}_time{runge_para['period']}_{Dimention}dim.png\")"
   ]
  },
  {
   "cell_type": "code",
   "execution_count": null,
   "id": "84abb177-642e-4c74-966e-6bb9194d83f6",
   "metadata": {
    "tags": []
   },
   "outputs": [],
   "source": [
    "np.savez_compressed(\"beta0.473_nu0.0001305_step0.01_300period_laminar.npz\", laminar=model.arr_latter)"
   ]
  },
  {
   "cell_type": "code",
   "execution_count": null,
   "id": "449a2a7e-d3cd-4e0b-acaf-44faa3fe0671",
   "metadata": {},
   "outputs": [],
   "source": [
    "a, b = 3, 4\n",
    "fig = plt.figure()\n",
    "ax = plt.subplot(1,1,1)\n",
    "ax.set_xlabel(f\"u{a+1}\")\n",
    "ax.set_ylabel(f'u{b+1}')\n",
    "ax.set_xscale(\"log\")\n",
    "ax.set_yscale(\"log\")\n",
    "ax.plot(np.abs(model.arr_latter[a,:30000]),np.abs(model.arr_latter[b,:30000]),lw=0.1)"
   ]
  },
  {
   "cell_type": "code",
   "execution_count": null,
   "id": "e4e8e24a-8143-4162-8f7a-aa20795fb525",
   "metadata": {
    "tags": []
   },
   "outputs": [],
   "source": [
    "#lmodel.perturbated_time"
   ]
  },
  {
   "cell_type": "code",
   "execution_count": null,
   "id": "8a9a2025-caec-4d8a-9ba0-811f748a5bbb",
   "metadata": {},
   "outputs": [],
   "source": [
    "#時間を指定して区切る\n",
    "@njit\n",
    "def trimmer(array,period,trimmered):\n",
    "    for i in range(len(array[0,:])):\n",
    "        if (array[-1,i] > period[0] and array[-1,i] < period[1]):\n",
    "            trimmered = np.append(trimmered,array[:,i:i+1],axis = 1)\n",
    "    return trimmered"
   ]
  },
  {
   "cell_type": "code",
   "execution_count": null,
   "id": "49e97ca7",
   "metadata": {
    "executionInfo": {
     "elapsed": 2662,
     "status": "ok",
     "timestamp": 1661331257476,
     "user": {
      "displayName": "KATO HIBIKI",
      "userId": "15445130315388485598"
     },
     "user_tz": -540
    },
    "id": "3c5e76d2-3f0e-47ae-a21a-4c7bc79d4948",
    "tags": []
   },
   "outputs": [],
   "source": [
    "#c4が極大値を取る時の全変数(+時間)をndarrayで返す関数\n",
    "@njit(f8[:,:](c16[:,:],f8[:,:]),cache=True)\n",
    "def loc_max_7(arr,z_list):\n",
    "    for j in range(len(arr[0,:]) - 3):\n",
    "        #7点とって極大判定\n",
    "        if (np.abs(arr[3,j+1]) - np.abs(arr[3,j]) > 0\n",
    "        and np.abs(arr[3,j+2]) - np.abs(arr[3,j+1]) > 0\n",
    "        and np.abs(arr[3,j+3]) - np.abs(arr[3,j+2]) > 0\n",
    "        and np.abs(arr[3,j+4]) - np.abs(arr[3,j+3]) < 0\n",
    "        and np.abs(arr[3,j+5]) - np.abs(arr[3,j+4]) < 0\n",
    "        and np.abs(arr[3,j+6]) - np.abs(arr[3,j+5]) < 0):\n",
    "            z_list = np.append(z_list,np.abs(arr[:,j+3:j+4]),axis=1)\n",
    "    return z_list"
   ]
  },
  {
   "cell_type": "code",
   "execution_count": null,
   "id": "f712dbcd-e193-4e2d-a1e3-f90d076f2db4",
   "metadata": {},
   "outputs": [],
   "source": [
    "nu = 0.00017795206429227755\n",
    "beta = 0.41676767676767673\n",
    "step = 0.005\n",
    "time = (0, 999945)\n",
    "cut_array = np.load(f\"../numpy_array/nu{nu}_beta{beta}_{step}_time{time}_14dim.npz\")[\"array\"]\n",
    "step_number = int((runge_para[\"period\"][1] - runge_para[\"period\"][0]) // runge_para[\"step\"]) + 1\n",
    "cut_arr = np.empty((Dimention+1,1))\n",
    "cut_arr[:,:] = np.nan\n",
    "cut_arr = loc_max_7(lmodel.arr, cut_arr)[:,1:]"
   ]
  },
  {
   "cell_type": "code",
   "execution_count": null,
   "id": "c8b27c7d-2ad4-4523-8cfe-da6f6e8896a9",
   "metadata": {
    "tags": []
   },
   "outputs": [],
   "source": [
    "#ポアンカレ写像のプロット(ラミナーの時間、出したい変数を入力)\n",
    "\n",
    "#プロットする変数\n",
    "var1 = 4\n",
    "var2 = 3\n",
    "\n",
    "#プロットする期間たち\n",
    "periods = np.array([[10000,14000],\n",
    "                    [87000,94000],\n",
    "                    [135000,137000],\n",
    "                    [160000,163000],\n",
    "                    [175000,181000],\n",
    "                    [189000,192000],\n",
    "                    [194000,197000],\n",
    "                    [206000,207000],\n",
    "                    [228000,229000],\n",
    "                    [234000,236000],\n",
    "                    [262000,266000],\n",
    "                    [275000,282000],\n",
    "                    [288000,296000],\n",
    "                    [309000,310000],\n",
    "                    [322000,325000],\n",
    "                    [338000,341000],\n",
    "                    [346000,348000],\n",
    "                    [368000,371000],\n",
    "                    [380000,382000],\n",
    "                    [405000,409000],\n",
    "                    [412000,416000],\n",
    "                    [420000,422000],\n",
    "                    [459000,465000],\n",
    "                    [480000,486000],\n",
    "                    [487000,489000],\n",
    "                    [522000,524000],\n",
    "                    [538000,541000],\n",
    "                    [605000,606000],\n",
    "                    [624000,629000],\n",
    "                    [640000,643000],\n",
    "                    [646000,650000],\n",
    "                    [652000,653000],\n",
    "                    [659000,662000],\n",
    "                    [681000,691000],\n",
    "                    [707000,711000],\n",
    "                    [723000,724000],\n",
    "                    [726000,727000],\n",
    "                    [759000,760000],\n",
    "                    [763000,768000],\n",
    "                    [773000,774000],\n",
    "                    [793000,795000],\n",
    "                    [820000,824000],\n",
    "                    [825000,827000],\n",
    "                    [832000,833000],\n",
    "                    [838000,840000],\n",
    "                    [843000,850000],\n",
    "                    [851000,859000],\n",
    "                    [872000,875000],\n",
    "                    [896000,897000],\n",
    "                    [904000,908000],\n",
    "                    [909000,915000],\n",
    "                    [921000,923000],\n",
    "                    [926000,927000],\n",
    "                    [942000,943000],\n",
    "                    [977000,983000],\n",
    "                    [992000,993000]\n",
    "                   ])\n",
    "\n",
    "#プロットの設定\n",
    "plt.figure(figsize=(10,10))\n",
    "plt.xlabel(f\"|u{var1}|\")\n",
    "plt.ylabel(f\"|u{var2}|\")\n",
    "#plt.xticks(np.arange(-0.6,0.6,step=0.02))\n",
    "#plt.xticks(rotation=90)\n",
    "#plt.yticks(np.arange(-0.4,0.4,step=0.02))\n",
    "plt.grid(False)\n",
    "plt.title(f\"U_{4} is local maximum \\n beta = {beta} \\n nu = {nu}\")\n",
    "\n",
    "plt.scatter(cut_array[var1-1,:],cut_array[var2-1,:],s=5,c=\"blue\",label=\"all\")\n",
    "\n",
    "\n",
    "for i in range(len(periods[:,0])):\n",
    "    period = periods[i,:]\n",
    "    trimmered = np.zeros((15,1))\n",
    "    trimmered = trimmer(cut_array,period,trimmered)\n",
    "    trimmered = np.delete(trimmered,0,1)\n",
    "    if i == 0:\n",
    "        plt.scatter(trimmered[var1-1,:],trimmered[var2-1,:],c=\"red\",s=1,label=\"laminar\")\n",
    "    else:\n",
    "        plt.scatter(trimmered[var1-1,:],trimmered[var2-1,:],c=\"red\",s=5)\n",
    "        \n",
    "plt.scatter(cut_arr[var1-1,:], cut_arr[var2-1, :], s=5, c = \"yellow\", label = \"long laminar\", alpha =0.5)\n",
    "plt.legend()\n",
    "\n",
    "\n",
    "\n",
    "plt.savefig(fname=f\"../poincare/beta{beta}_nu{nu}_{step}step_time{time}_{len(cut_array[:,0])}dim_u4_is_loc_max_U{var1}andU{var2}.png\")"
   ]
  }
 ],
 "metadata": {
  "accelerator": "GPU",
  "colab": {
   "collapsed_sections": [],
   "provenance": []
  },
  "gpuClass": "standard",
  "kernelspec": {
   "display_name": "Python 3 (ipykernel)",
   "language": "python",
   "name": "python3"
  },
  "language_info": {
   "codemirror_mode": {
    "name": "ipython",
    "version": 3
   },
   "file_extension": ".py",
   "mimetype": "text/x-python",
   "name": "python",
   "nbconvert_exporter": "python",
   "pygments_lexer": "ipython3",
   "version": "3.10.10"
  }
 },
 "nbformat": 4,
 "nbformat_minor": 5
}
