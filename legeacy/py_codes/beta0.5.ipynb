{
 "cells": [
  {
   "cell_type": "code",
   "execution_count": null,
   "id": "1623a1a9-1c6b-4e45-acbd-1d3cedc85452",
   "metadata": {
    "executionInfo": {
     "elapsed": 2320,
     "status": "ok",
     "timestamp": 1662964760702,
     "user": {
      "displayName": "KATO HIBIKI",
      "userId": "15445130315388485598"
     },
     "user_tz": -540
    },
    "id": "8338c8d5-318b-40ca-a33d-2b95960cd93d",
    "tags": []
   },
   "outputs": [],
   "source": [
    "import sys\n",
    "sys.dont_write_bytecode = True\n",
    "sys.path.append('../../lb')\n",
    "import numpy as np\n",
    "import matplotlib.pyplot as plt\n",
    "from tqdm import tqdm\n",
    "import math\n",
    "import cmath\n",
    "from numba import njit, f8,i8,c16\n",
    "import numba\n",
    "import matplotlib.animation as animation\n",
    "from IPython.display import HTML\n",
    "import copy\n",
    "import matplotlib\n",
    "import random\n",
    "import  concurrent.futures\n",
    "import func_for_paralell\n",
    "\n",
    "import RungeKutta_acceralated\n",
    "\n",
    "#パラメーター\n",
    "nu = 0.001\n",
    "\n",
    "f = (1 + 1j) * 5 * 0.001\n",
    "\n",
    "Dimention = 14 #uの次元数\n",
    "q = 2\n",
    "k_0 = 2 ** (-4)\n",
    "k_n = np.zeros((Dimention+4,1))\n",
    "k_n[2:-2,0] = [k_0 * q ** (i+1) for i in range(Dimention)]\n",
    "#print(k_n)\n",
    "\n",
    "c_n_1 = copy.deepcopy(k_n)[2:-2, 0:]\n",
    "c_n_1[-2:, 0:] = np.zeros((2,1))\n",
    "#print(c_n_1)\n",
    "\n",
    "beta = 0.5\n",
    "c_n_2 = copy.deepcopy(k_n)[1:-3, 0:] * -beta\n",
    "c_n_2[-1, 0] = np.zeros((1, 1))\n",
    "#print(c_n_2)\n",
    "\n",
    "c_n_3 = copy.deepcopy(k_n)[:-4, 0:] * (beta - 1)\n",
    "#print(c_n_3)\n",
    "\n",
    "#parameter = [nu,f,k_n,c_n_1,c_n_2,c_n_3]\n",
    "parameter = {\n",
    "    'nu' : nu,\n",
    "    'f' : f,\n",
    "    'k_n' : k_n,\n",
    "    'c_n_1' : c_n_1,\n",
    "    'c_n_2' : c_n_2,\n",
    "    'c_n_3' : c_n_3\n",
    "}\n",
    "#print(parameter)\n",
    "#print(k_n)\n",
    "\n",
    "runge_para = {\n",
    "    'start' :  np.load(\"14次元初期値.npy\"),\n",
    "    'step' : 0.00025,\n",
    "    'period' : np.array([0,5000]),\n",
    "    'nu' : nu,\n",
    "    'f' : f,\n",
    "    'k_n' : k_n,\n",
    "    'c_n_1' : c_n_1,\n",
    "    'c_n_2' : c_n_2,\n",
    "    'c_n_3' : c_n_3\n",
    "}"
   ]
  },
  {
   "cell_type": "markdown",
   "id": "de54da31-1ad6-499a-bbd2-cdceeb2a31a7",
   "metadata": {
    "tags": []
   },
   "source": [
    "# コンテスト(初期値, nu)"
   ]
  },
  {
   "cell_type": "markdown",
   "id": "08bb958f-9554-4028-aaeb-f9c6f47209f2",
   "metadata": {
    "jp-MarkdownHeadingCollapsed": true,
    "tags": []
   },
   "source": [
    "# シングルコア"
   ]
  },
  {
   "cell_type": "markdown",
   "id": "e9afc42e-c4e9-4bcb-afcf-50eef10a211d",
   "metadata": {
    "tags": []
   },
   "source": [
    "## nu固定"
   ]
  },
  {
   "cell_type": "code",
   "execution_count": null,
   "id": "31cd2dc9-5dba-465b-aae7-b6bf0f320638",
   "metadata": {
    "tags": []
   },
   "outputs": [],
   "source": [
    "#ある程度持続すれば更新\n",
    "runge_para[\"period\"]=np.array([0,1000])\n",
    "competitives = 100\n",
    "\n",
    "#刻み幅\n",
    "runge_para[\"step\"] = 0.01\n",
    "skip= 100\n",
    "\n",
    "runge_para['start'] = np.load(\"../laminar_initials/beta0.5_nu0.0001415923755756859_step0.01_654.27999999955period_laminar.npz\")[\"start\"]\n",
    "\n",
    "#nu\n",
    "runge_para[\"nu\"] = 0.0001415923755756859\n",
    "beta= 0.5\n",
    "#c_n_2\n",
    "runge_para[\"c_n_2\"] = runge_para[\"k_n\"][1:-3, 0:] * -beta\n",
    "runge_para[\"c_n_2\"][-1, 0:] = np.zeros((1, 1))\n",
    "\n",
    "#c_n_3\n",
    "runge_para[\"c_n_3\"] = runge_para[\"k_n\"][:-4, 0:] * (beta - 1)\n",
    "model = RungeKutta_acceralated.RungeKutta()\n",
    "lmodel = Long_laminar()\n",
    "for _ in range(3):\n",
    "    #摂動を与えた初期値のリスト作成\n",
    "    starts = np.zeros((14,competitives),dtype = np.complex128)\n",
    "    starts[:,0:1] = runge_para[\"start\"].copy()\n",
    "    for i in range(competitives-1):\n",
    "        starts[:,i+1:i+2] = lmodel.perturbator(runge_para['start'])\n",
    "\n",
    "\n",
    "    #ラミナーから外れた時間\n",
    "    times = np.zeros((competitives)) + runge_para[\"period\"][1]\n",
    "\n",
    "    for i in tqdm(range(competitives)):\n",
    "        runge_para['start'] = starts[:,i:i+1].copy()\n",
    "        #インスタンス化&実行\n",
    "        model.get_arr_latter(**runge_para,latter=1)\n",
    "\n",
    "        #極大抽出\n",
    "        loc_max = Long_laminar.loc_max_7(model.arr_latter) #u1が極大値なものを拾ってくる\n",
    "        loc_min = Long_laminar.loc_min_7(model.arr_latter) #u1が極小値なものを拾ってくる\n",
    "\n",
    "        #極大値で判定\n",
    "        for j in range(loc_max.shape[1]):\n",
    "            if not 0.87 < loc_max[0,j] < 1.1:\n",
    "                times[i] = loc_max[-1, j]\n",
    "                break\n",
    "        #極小値で判定\n",
    "        for j in range(loc_min.shape[1]):\n",
    "            if not 0.5 < loc_min[0,j] < 0.64:\n",
    "                times[i] = min([loc_min[-1,j], times[i]])\n",
    "    runge_para['start'] = starts[:, np.argmax(times):np.argmax(times)+1]\n",
    "    print(max(times))\n",
    "    if max(times) > runge_para[\"period\"][1]*0.99:\n",
    "        break"
   ]
  },
  {
   "cell_type": "markdown",
   "id": "b02d1c9f-e03b-4147-8817-17ef42f044a6",
   "metadata": {},
   "source": [
    "## 初期値固定"
   ]
  },
  {
   "cell_type": "code",
   "execution_count": null,
   "id": "59a35053-20d9-44a4-9b32-a8f349bde4a3",
   "metadata": {
    "tags": []
   },
   "outputs": [],
   "source": [
    "#ある程度持続すれば更新\n",
    "runge_para[\"period\"]=np.array([0,1000])\n",
    "competitives = 100\n",
    "\n",
    "#刻み幅\n",
    "runge_para[\"step\"] = 0.01\n",
    "skip= 100\n",
    "#runge_para['start'] = np.load(\"../laminar_initials/beta0.43229999999999996_nu0.0001433408684811308_step0.01_806.1699999994119period_laminar.npy\")\n",
    "\n",
    "#nu\n",
    "#runge_para[\"nu\"] =  0.0001433408684811308\n",
    "#betaの値に従いc_n_2,c_n_3を更新\n",
    "#beta = 0.4323\n",
    "\n",
    "#c_n_2\n",
    "runge_para[\"c_n_2\"] = runge_para[\"k_n\"][1:-3, 0:] * -beta\n",
    "runge_para[\"c_n_2\"][-1, 0:] = np.zeros((1, 1))\n",
    "\n",
    "#c_n_3\n",
    "runge_para[\"c_n_3\"] = runge_para[\"k_n\"][:-4, 0:] * (beta - 1)\n",
    "model = RungeKutta_acceralated.RungeKutta()\n",
    "lmodel = Long_laminar()\n",
    "\n",
    "for _ in range(5):\n",
    "    #摂動を与えたnuのリスト作成\n",
    "    nus = np.zeros((competitives),dtype = np.float64)\n",
    "    nus[0] = runge_para[\"nu\"]*1\n",
    "    for i in range(competitives-1):\n",
    "        a=-5\n",
    "        b=-9\n",
    "        nus[i+1] = runge_para[\"nu\"] + (10) ** ((b - a) * np.random.rand() + a) * (-1) ** np.random.randint(1,3) \n",
    "\n",
    "\n",
    "    #ラミナーから外れた時間\n",
    "    times = np.zeros((competitives)) + runge_para[\"period\"][1]\n",
    "\n",
    "    for i in tqdm(range(competitives)):\n",
    "        runge_para['nu'] = nus[i]\n",
    "        #インスタンス化&実行\n",
    "        model.get_arr_latter(**runge_para,latter=1)\n",
    "\n",
    "        #極大抽出\n",
    "        loc_max = Long_laminar.loc_max_7(model.arr_latter) #u1が極大値なものを拾ってくる\n",
    "        loc_min = Long_laminar.loc_min_7(model.arr_latter) #u1が極小値なものを拾ってくる\n",
    "\n",
    "        #極大値で判定\n",
    "        for j in range(loc_max.shape[1]):\n",
    "            if not 0.87 < loc_max[0,j] < 1.1:\n",
    "                times[i] = loc_max[-1, j]\n",
    "                break\n",
    "        #極小値で判定\n",
    "        for j in range(loc_min.shape[1]):\n",
    "            if not 0.5 < loc_min[0,j] < 0.64:\n",
    "                times[i] = min([loc_min[-1,j], times[i]])\n",
    "    runge_para['nu'] = nus[np.argmax(times)]\n",
    "    print(max(times))\n",
    "    if max(times) > runge_para[\"period\"][1]*0.99:\n",
    "        break\n",
    "        \n",
    "if max(times) > 500:\n",
    "    np.savez_compressed(f\"../laminar_initials/beta{beta}_nu{runge_para['nu']}_step{runge_para['step']}_{max(times)}period_laminar\", start=model.arr_latter[:-1,0:1], laminar=model.arr_latter)"
   ]
  },
  {
   "cell_type": "markdown",
   "id": "78400961-4b91-477b-8aca-922703c72aad",
   "metadata": {
    "tags": []
   },
   "source": [
    "## 初期値・nu ランダム"
   ]
  },
  {
   "cell_type": "code",
   "execution_count": null,
   "id": "b8e48dd3-25a2-4385-8192-f0f1b34fa370",
   "metadata": {
    "tags": []
   },
   "outputs": [],
   "source": [
    "%%time\n",
    "#ある程度持続すれば更新\n",
    "runge_para[\"period\"]=np.array([0,1000])\n",
    "competitives = 100\n",
    "\n",
    "#刻み幅\n",
    "runge_para[\"step\"] = 0.01\n",
    "runge_para['start'] = np.load(\"../laminar_initials/beta0.419_nu0.00017216861171046193_step0.01_6195.000000088802period_laminar.npy\")\n",
    "\n",
    "#nu\n",
    "runge_para[\"nu\"] = 0.00017216861171046193\n",
    "beta= 0.419\n",
    "\n",
    "#c_n_2\n",
    "runge_para[\"c_n_2\"] = runge_para[\"k_n\"][1:-3, 0:] * -beta\n",
    "runge_para[\"c_n_2\"][-1, 0:] = np.zeros((1, 1))\n",
    "\n",
    "#c_n_3\n",
    "runge_para[\"c_n_3\"] = runge_para[\"k_n\"][:-4, 0:] * (beta - 1)\n",
    "\n",
    "model = RungeKutta_acceralated.RungeKutta()\n",
    "lmodel = RungeKutta_acceralated.Long_laminar()\n",
    "\n",
    "for _ in tqdm(range(5)):\n",
    "    #摂動を与えたnuのリスト作成\n",
    "    nus = np.zeros((competitives),dtype = np.float64)\n",
    "    nus[0] = runge_para[\"nu\"]*1\n",
    "    for i in range(competitives-1):\n",
    "        a=-4.7\n",
    "        b=-9\n",
    "        nus[i+1] = runge_para[\"nu\"] + (10) ** ((b - a) * np.random.rand() + a) * (-1) ** np.random.randint(1,3) \n",
    "\n",
    "    #摂動を与えた初期値のリスト作成\n",
    "    starts = np.zeros((14,competitives),dtype = np.complex128)\n",
    "    starts[:,0:1] = runge_para[\"start\"].copy()\n",
    "    for i in range(competitives-1):\n",
    "        starts[:,i+1:i+2] = lmodel.perturbator(runge_para['start'])\n",
    "\n",
    "    #ラミナーから外れた時間\n",
    "    times = np.zeros((competitives)) + runge_para[\"period\"][1]\n",
    "\n",
    "    for i in range(competitives):\n",
    "        runge_para['start'] = starts[:,i:i+1].copy()\n",
    "        runge_para['nu'] = nus[i]\n",
    "        #インスタンス化&実行\n",
    "        model.get_arr_latter(**runge_para,latter=1)\n",
    "\n",
    "        #極大抽出\n",
    "        loc_max = lmodel.loc_max_7(model.arr_latter, 1) #u1が極大値なものを拾ってくる\n",
    "        loc_min = lmodel.loc_min_7(model.arr_latter, 1) #u1が極小値なものを拾ってくる\n",
    "\n",
    "        #極大値で判定\n",
    "        for j in range(loc_max.shape[1]):\n",
    "            if not 0.87 < loc_max[0,j] < 1.1:\n",
    "                times[i] = loc_max[-1, j]\n",
    "                break\n",
    "        #極小値で判定\n",
    "        for j in range(loc_min.shape[1]):\n",
    "            if not 0.5 < loc_min[0,j] < 0.64:\n",
    "                times[i] = min([loc_min[-1,j], times[i]])\n",
    "                break\n",
    "                \n",
    "    runge_para['nu'] = nus[np.argmax(times)]\n",
    "    runge_para['start'] = starts[:, np.argmax(times):np.argmax(times)+1]\n",
    "    print(max(times))\n",
    "    if max(times) > runge_para[\"period\"][1]*0.99:\n",
    "        break\n",
    "\n",
    "if max(times) > 600:\n",
    "    np.save(f\"../laminar_initials/beta{beta}_nu{runge_para['nu']}_step{runge_para['step']}_{max(times)}period_laminar\", model.arr_latter[:-1,0:1])"
   ]
  },
  {
   "cell_type": "markdown",
   "id": "c1d9e588-8c36-4547-b57b-b8ebe83ce41a",
   "metadata": {
    "tags": []
   },
   "source": [
    "# マルチコア"
   ]
  },
  {
   "cell_type": "markdown",
   "id": "d07e12e7-bdd9-4e18-a3b8-a48f63652fef",
   "metadata": {
    "tags": []
   },
   "source": [
    "## nu固定"
   ]
  },
  {
   "cell_type": "code",
   "execution_count": null,
   "id": "2561d299-73d4-4628-89a1-638f41d931dd",
   "metadata": {
    "tags": []
   },
   "outputs": [],
   "source": [
    "%%time\n",
    "#ある程度持続すれば更新\n",
    "runge_para[\"period\"]=np.array([0,2000])\n",
    "competitives = 50\n",
    "\n",
    "#刻み幅\n",
    "runge_para[\"step\"] = 0.01\n",
    "skip= 100\n",
    "runge_para['start'] = np.load(\"../laminar_initials/beta0.424_nu0.0001766202254935416_step0.01_1818.579999998491period_laminar.npy\")\n",
    "\n",
    "#nu\n",
    "runge_para[\"nu\"] = 0.00017662\n",
    "beta= 0.424\n",
    "#c_n_2\n",
    "runge_para[\"c_n_2\"] = runge_para[\"k_n\"][1:-3, 0:] * -beta\n",
    "runge_para[\"c_n_2\"][-1, 0:] = np.zeros((1, 1))\n",
    "\n",
    "#c_n_3\n",
    "runge_para[\"c_n_3\"] = runge_para[\"k_n\"][:-4, 0:] * (beta - 1)\n",
    "model = RungeKutta_acceralated.RungeKutta()\n",
    "lmodel = RungeKutta_acceralated.Long_laminar()\n",
    "\n",
    "for _ in tqdm(range(4)):\n",
    "    with concurrent.futures.ProcessPoolExecutor(max_workers = 8) as executor: \n",
    "        task1 = executor.submit(func_for_paralell.competition, runge_para, competitives, nu = False)\n",
    "        task2 = executor.submit(func_for_paralell.competition, runge_para, competitives, nu = False)\n",
    "        task3 = executor.submit(func_for_paralell.competition, runge_para, competitives, nu = False)\n",
    "        task4 = executor.submit(func_for_paralell.competition, runge_para, competitives, nu = False)\n",
    "        # task5 = executor.submit(func_for_paralell.competition, runge_para, competitives, nu = False)\n",
    "        # task6 = executor.submit(func_for_paralell.competition, runge_para, competitives, nu = False)\n",
    "        # task7 = executor.submit(func_for_paralell.competition, runge_para, competitives, nu = False)\n",
    "        times1, starts1, nus1 = task1.result()\n",
    "        times2, starts2, nus2 = task2.result()\n",
    "        times3, starts3, nus3 = task3.result()\n",
    "        times4, starts4, nus4 = task4.result()\n",
    "        # times5, starts5, nus5 = task5.result()\n",
    "        # times6, starts6, nus6 = task6.result()\n",
    "        # times7, starts7, nus7 = task7.result()\n",
    "\n",
    "    times = np.concatenate([times1, times2, times3, times4])\n",
    "    starts = np.concatenate((starts1, starts2, starts3, starts4), axis=1)\n",
    "    #nus = np.concatenate([nus1, nus2, nus3, nus4, nus5, nus6, nus7])\n",
    "    #runge_para['nu'] = nus[np.argmax(times)]\n",
    "    runge_para['start'] = starts[:, np.argmax(times):np.argmax(times)+1]\n",
    "    print(max(times))\n",
    "    if max(times) > runge_para[\"period\"][1]*0.99:\n",
    "        break\n",
    "if max(times) > 1000:\n",
    "    np.save(f\"../laminar_initials/beta{beta}_nu{runge_para['nu']}_step{runge_para['step']}_{max(times)}period_laminar\", runge_para[\"start\"])"
   ]
  },
  {
   "cell_type": "markdown",
   "id": "e4f25886-6e33-4c47-b357-65a34c620250",
   "metadata": {
    "tags": []
   },
   "source": [
    "## 初期値固定"
   ]
  },
  {
   "cell_type": "code",
   "execution_count": null,
   "id": "95161e8e-3462-4e8e-826a-4ff19e12256a",
   "metadata": {
    "tags": []
   },
   "outputs": [],
   "source": [
    "%%time\n",
    "#ある程度持続すれば更新\n",
    "runge_para[\"period\"]=np.array([0,2000])\n",
    "competitives = 100\n",
    "\n",
    "#刻み幅\n",
    "runge_para[\"step\"] = 0.01\n",
    "skip= 100\n",
    "runge_para['start'] = np.load(\"../laminar_initials/beta0.4328_nu0.00014159314443410194_step0.01_1000.0period_laminar.npy\")\n",
    "\n",
    "#nu\n",
    "runge_para[\"nu\"] = 0.00014159314443410194\n",
    "beta= 0.4328\n",
    "#c_n_2\n",
    "runge_para[\"c_n_2\"] = runge_para[\"k_n\"][1:-3, 0:] * -beta\n",
    "runge_para[\"c_n_2\"][-1, 0:] = np.zeros((1, 1))\n",
    "\n",
    "#c_n_3\n",
    "runge_para[\"c_n_3\"] = runge_para[\"k_n\"][:-4, 0:] * (beta - 1)\n",
    "model = RungeKutta_acceralated.RungeKutta()\n",
    "lmodel = RungeKutta_acceralated.Long_laminar()\n",
    "\n",
    "for _ in tqdm(range(4)):\n",
    "    with concurrent.futures.ProcessPoolExecutor(max_workers = 8) as executor: \n",
    "        task1 = executor.submit(func_for_paralell.competition, runge_para, competitives)\n",
    "        task2 = executor.submit(func_for_paralell.competition, runge_para, competitives)\n",
    "        task3 = executor.submit(func_for_paralell.competition, runge_para, competitives)\n",
    "        task4 = executor.submit(func_for_paralell.competition, runge_para, competitives)\n",
    "        task5 = executor.submit(func_for_paralell.competition, runge_para, competitives)\n",
    "        task6 = executor.submit(func_for_paralell.competition, runge_para, competitives)\n",
    "        task7 = executor.submit(func_for_paralell.competition, runge_para, competitives)\n",
    "\n",
    "        times1, starts1, nus1 = task1.result()\n",
    "        times2, starts2, nus2 = task2.result()\n",
    "        times3, starts3, nus3 = task3.result()\n",
    "        times4, starts4, nus4 = task4.result()\n",
    "        times5, starts5, nus5 = task5.result()\n",
    "        times6, starts6, nus6 = task6.result()\n",
    "        times7, starts7, nus7 = task7.result()\n",
    "\n",
    "    times = np.concatenate([times1, times2, times3, times4, times5, times6, times7])\n",
    "    #starts = np.concatenate((starts1, starts2, starts3, starts4, starts5, starts6, starts7), axis=1)\n",
    "    nus = np.concatenate([nus1, nus2, nus3, nus4, nus5, nus6, nus7])\n",
    "    runge_para['nu'] = nus[np.argmax(times)]\n",
    "    #runge_para['start'] = starts[:, np.argmax(times):np.argmax(times)+1]\n",
    "    print(max(times))\n",
    "    if max(times) > runge_para[\"period\"][1]*0.99:\n",
    "        break\n",
    "if max(times) > 1000:\n",
    "    np.save(f\"../laminar_initials/beta{beta}_nu{runge_para['nu']}_step{runge_para['step']}_{max(times)}period_laminar\", runge_para[\"start\"])"
   ]
  },
  {
   "cell_type": "markdown",
   "id": "f2515402-9584-4134-b7e0-ff0cf91fe0c8",
   "metadata": {
    "tags": []
   },
   "source": [
    "## 初期値・nuランダム"
   ]
  },
  {
   "cell_type": "code",
   "execution_count": null,
   "id": "4f771a53-6f04-4808-bfc4-fb2611f28658",
   "metadata": {
    "tags": []
   },
   "outputs": [],
   "source": [
    "%%time\n",
    "#縦軸に各変数、横軸時間　×次元数 + flux\n",
    "runge_para[\"period\"]=np.array([0,10000])\n",
    "\n",
    "#刻み幅\n",
    "runge_para[\"step\"] = 0.01\n",
    "competitives = 100\n",
    "skip= 100\n",
    "runge_para['start'] = np.load(\"../laminar_initials/beta0.419_nu0.00017216861171046193_step0.01_6195.000000088802period_laminar.npy\")\n",
    "\n",
    "#nu\n",
    "runge_para[\"nu\"] = 0.00017216861171046193\n",
    "beta= 0.419\n",
    "#c_n_2\n",
    "runge_para[\"c_n_2\"] = runge_para[\"k_n\"][1:-3, 0:] * -beta\n",
    "runge_para[\"c_n_2\"][-1, 0:] = np.zeros((1, 1))\n",
    "\n",
    "#c_n_3\n",
    "runge_para[\"c_n_3\"] = runge_para[\"k_n\"][:-4, 0:] * (beta - 1)\n",
    "model = RungeKutta_acceralated.RungeKutta()\n",
    "lmodel = RungeKutta_acceralated.Long_laminar()\n",
    "\n",
    "for _ in tqdm(range(4)):\n",
    "    with concurrent.futures.ProcessPoolExecutor(max_workers =8) as executor: \n",
    "        task1 = executor.submit(func_for_paralell.competition, runge_para, competitives)\n",
    "        task2 = executor.submit(func_for_paralell.competition, runge_para, competitives)\n",
    "        task3 = executor.submit(func_for_paralell.competition, runge_para, competitives)\n",
    "        task4 = executor.submit(func_for_paralell.competition, runge_para, competitives)\n",
    "        task5 = executor.submit(func_for_paralell.competition, runge_para, competitives)\n",
    "        task6 = executor.submit(func_for_paralell.competition, runge_para, competitives)\n",
    "\n",
    "        times1, starts1, nus1 = task1.result()\n",
    "        times2, starts2, nus2 = task2.result()\n",
    "        times3, starts3, nus3 = task3.result()\n",
    "        times4, starts4, nus4 = task4.result()\n",
    "        times5, starts5, nus5 = task5.result()\n",
    "        times6, starts6, nus6 = task6.result()\n",
    "\n",
    "    times = np.concatenate([times1, times2, times3, times4, times5, times6])\n",
    "    starts = np.concatenate((starts1, starts2, starts3, starts4, starts5, starts6), axis=1)\n",
    "    nus = np.concatenate([nus1, nus2, nus3, nus4, nus5, nus6])\n",
    "    runge_para['nu'] = nus[np.argmax(times)]\n",
    "    runge_para['start'] = starts[:, np.argmax(times):np.argmax(times)+1]\n",
    "    print(f\"nu={runge_para['nu']},{max(times)}\")\n",
    "    if max(times) > runge_para[\"period\"][1]*0.99:\n",
    "        break\n",
    "if max(times) > 1000:\n",
    "    np.save(f\"../laminar_initials/beta{beta}_nu{runge_para['nu']}_step{runge_para['step']}_{int(max(times))}period_laminar\", runge_para[\"start\"])"
   ]
  },
  {
   "cell_type": "code",
   "execution_count": null,
   "id": "a795795a-e3f0-4553-a662-a6fbed603085",
   "metadata": {
    "collapsed": true,
    "jupyter": {
     "outputs_hidden": true
    },
    "tags": []
   },
   "outputs": [],
   "source": [
    "laminar = np.load(\"ラミナー軌道例.npy\")\n",
    "plt.scatter(np.abs(starts[3,:]),np.abs(starts[4,:]), s=0.1)\n",
    "plt.plot(abs(laminar[3,200000::10]),abs(laminar[4,200000::10]),color=\"r\",linewidth=0.1,alpha = 0.1)\n",
    "plt.plot(abs(model.arr_latter[3,:50:skip]),abs(model.arr_latter[4,:50:skip]),lw=0.1)"
   ]
  },
  {
   "cell_type": "code",
   "execution_count": null,
   "id": "fc17aeef-1fc6-403b-bfa2-a86c2415fa7d",
   "metadata": {
    "tags": []
   },
   "outputs": [],
   "source": [
    "#保存\n",
    "np.savez_compressed(f\"../laminar_initials/beta{beta}_nu{runge_para['nu']}_step{runge_para['step']}_{max(times)}period_laminar\", start=model.arr_latter[:-1,0:1], laminar=model.arr_latter)"
   ]
  },
  {
   "cell_type": "code",
   "execution_count": null,
   "id": "74b04872-daec-4411-a90a-d72633d1459b",
   "metadata": {
    "tags": []
   },
   "outputs": [],
   "source": [
    "print(runge_para[\"period\"][0])"
   ]
  },
  {
   "cell_type": "code",
   "execution_count": null,
   "id": "52bab47a-9be1-46db-a46c-652fcde16251",
   "metadata": {
    "tags": []
   },
   "outputs": [],
   "source": [
    "#軌道確認\n",
    "skip = 1\n",
    "model.get_arr_latter(**runge_para,latter=1)\n",
    "Nth_shell = 3\n",
    "plt.figure(figsize=(20,30))\n",
    "for i in range(Dimention):\n",
    "    plt.subplot(Dimention+1,1,i+1)\n",
    "    plt.ylabel(f\"u{i+1}\")\n",
    "    #plt.yscale=(\"log\")\n",
    "    plt.plot(np.real(model.arr_latter[-1,::skip]),abs(model.arr_latter[i,::skip]),lw=1)\n",
    "\n",
    "plt.subplot(Dimention+1,1,Dimention+1)\n",
    "plt.ylabel(f\"flux of {Nth_shell}th shell\")\n",
    "plt.plot(np.real(model.arr_latter[-1,::]), lmodel.flux(model.arr_latter[:-1,:], Nth_shell, 0.5)[0,:])"
   ]
  },
  {
   "cell_type": "code",
   "execution_count": null,
   "id": "5fb97ffc-afc1-4f8c-a3e9-3084ab86fe26",
   "metadata": {
    "tags": []
   },
   "outputs": [],
   "source": [
    "#探索の後に実行すれば分布をプロット\n",
    "plt.hist(times, bins =100)"
   ]
  },
  {
   "cell_type": "markdown",
   "id": "cbdf9675-ac82-47f2-b43e-ffce2b802482",
   "metadata": {
    "jp-MarkdownHeadingCollapsed": true,
    "tags": []
   },
   "source": [
    "# 初期値ランダムnu範囲"
   ]
  },
  {
   "cell_type": "code",
   "execution_count": null,
   "id": "ce104dc2-855f-43f5-8f01-4e34c7026d9f",
   "metadata": {
    "tags": []
   },
   "outputs": [],
   "source": [
    "#アニメーション(パラメータ変更)\n",
    "lmodel = Long_laminar()\n",
    "\n",
    "runge_para['period']=(0,300)\n",
    "#runge_para['start'] = np.load(\"../laminar_initials/beta0.4351100000000018_nu0.00013515513078827336_step0.01_928.7999999993003period_laminar.npy\")\n",
    "runge_para['step'] = 0.005\n",
    "\n",
    "param_step = 100 #パラメータ何回刻む\n",
    "\n",
    "starts = np.zeros((14,param_step),dtype = np.complex128)\n",
    "for i in range(param_step):\n",
    "    starts[:,i:i+1] = lmodel.perturbator(runge_para['start']) #初期値生成\n",
    "\n",
    "nu_begin = 0.00008 #パラメータ開始\n",
    "nu_end = 0.0001#パラメータ終わり\n",
    "\n",
    "beta = 0.5\n",
    "#c_n_2\n",
    "runge_para[\"c_n_2\"] = runge_para[\"k_n\"][1:-3, 0:] * -beta\n",
    "runge_para[\"c_n_2\"][-1, 0:] = np.zeros((1, 1))\n",
    "\n",
    "#c_n_3\n",
    "runge_para[\"c_n_3\"] = runge_para[\"k_n\"][:-4, 0:] * (beta - 1)\n",
    "\n",
    "latter = 1 #後半何分の1をプロットするか\n",
    "skip = 10 #各パラメータでプロットする際、何刻み分飛ばしでプロットするか(大きければカクカク。メモリ対策)\n",
    "#参考までにdt0.00025,9000-10000時間では1000skipぐらいなら気にならない。10000だと酷い。\n",
    "\n",
    "nu_param = np.linspace(nu_begin,nu_end,param_step) \n",
    "#nu_param=[math.pow(10,i) for i in nu_param] #log10の時は実行\n",
    "step_number = int((runge_para[\"period\"][1] - runge_para[\"period\"][0]) // runge_para[\"step\"]) + 1\n",
    "#kaishi = step_number // latter\n",
    "\n",
    "laminar = np.load(\"ラミナー軌道例.npy\")\n",
    " \n",
    "\n",
    "#インスタンス化\n",
    "model = RungeKutta_acceralated.RungeKutta()\n",
    "\n",
    "#プロットの設定\n",
    "fig, ax = plt.subplots(dpi=100)\n",
    "ims = []\n",
    "ax.set_xlabel(\"|u4|\")\n",
    "ax.set_ylabel(\"|u5|\")\n",
    "\n",
    "for i in tqdm(range(param_step)):\n",
    "    #nu更新\n",
    "    runge_para[\"nu\"] = nu_param[i]\n",
    "    \n",
    "    #初期値設定\n",
    "    runge_para['start'] = starts[:, i:i+1]\n",
    "    \n",
    "    \n",
    "    model.get_arr_latter(**runge_para,latter=latter)\n",
    "\n",
    "    # #次のパラメータの初期値を今回の最後の値に変更\n",
    "    # runge_para[\"start\"] = model.arr[:-1,-1:]\n",
    "    \n",
    "    text = ax.text(0.5,1.05,(f\"beta={beta} \\n nu={nu_param[i]}\"), size = 15, color = \"green\", ha = \"center\", transform=ax.transAxes)\n",
    "    \n",
    "    im1 = ax.plot(abs(model.arr_latter[1,::skip]),abs(model.arr_latter[2,::skip]),color=\"b\",linewidth=0.1)\n",
    "    im2 = ax.plot(abs(laminar[1,200000::10]),abs(laminar[2,200000::10]),color=\"r\",linewidth=0.1,alpha = 0.1)\n",
    "    ims.append(im1 + im2 +[text])\n",
    "\n",
    "anim = animation.ArtistAnimation(fig, ims)\n",
    "#anim.save(f\"../animation_attracter_per_parameter/nu({nu_param[0]},{nu_param[-1]})_beta({beta_param[0]},{beta_param[-1]})_{runge_para['step']}_{runge_para['period']}_{param_step}cut_{Dimention}dim_latter{round(1/latter)}.mp4\")\n",
    "HTML(anim.to_jshtml())"
   ]
  }
 ],
 "metadata": {
  "accelerator": "GPU",
  "colab": {
   "collapsed_sections": [],
   "provenance": []
  },
  "gpuClass": "standard",
  "kernelspec": {
   "display_name": "Python 3 (ipykernel)",
   "language": "python",
   "name": "python3"
  },
  "language_info": {
   "codemirror_mode": {
    "name": "ipython",
    "version": 3
   },
   "file_extension": ".py",
   "mimetype": "text/x-python",
   "name": "python",
   "nbconvert_exporter": "python",
   "pygments_lexer": "ipython3",
   "version": "3.10.10"
  }
 },
 "nbformat": 4,
 "nbformat_minor": 5
}
