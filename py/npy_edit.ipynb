{
 "cells": [
  {
   "cell_type": "code",
   "execution_count": 4,
   "metadata": {},
   "outputs": [],
   "source": [
    "import numpy as np\n",
    "# import matplotlib.pyplot as plt\n",
    "import os\n",
    "import sys\n",
    "import re"
   ]
  },
  {
   "cell_type": "code",
   "execution_count": 3,
   "metadata": {},
   "outputs": [
    {
     "data": {
      "text/plain": [
       "(2, 40001)"
      ]
     },
     "execution_count": 3,
     "metadata": {},
     "output_type": "execute_result"
    }
   ],
   "source": [
    "a = np.load('../error_growth/assemble/linear_beta0.5nu4e-05t400initial400dt0.01repeat10000perturbed_dim13_26910.npy')\n",
    "# plt.plot(abs(a[0, :]), abs(a[1, :]))\n",
    "a.shape"
   ]
  },
  {
   "cell_type": "markdown",
   "metadata": {},
   "source": [
    "## error_growthのnpyの結合"
   ]
  },
  {
   "cell_type": "code",
   "execution_count": 2,
   "metadata": {},
   "outputs": [],
   "source": [
    "# \"../error_growth/assemble/\" から.npyファイルを全て読み込む\n",
    "directory = \"../error_growth/assemble/\"\n",
    "files = os.listdir(directory)\n",
    "files_file = [f for f in files if os.path.isfile(os.path.join(directory, f))]\n",
    "files_npy = [f for f in files_file if f[-4:] == '.npy']\n",
    "\n",
    "# ファイル名からパラメータを取得\n",
    "beta, nu, t, t_initial, dt = re.search(r'beta(\\d+\\.\\d+)nu(\\d+e-\\d+)t(\\d+)initial(\\d+)dt(\\d+\\.\\d+)', files_npy[0]).groups()\n",
    "perturbed_dim = re.search(r'perturbed_dim(\\d+)', files_npy[0]).group(1)\n",
    "repetition = 0\n",
    "time = np.load(directory + files_npy[0])[1,]\n",
    "average = np.zeros_like(time)\n",
    "\n",
    "# ファイルを読み込んで平均を取る\n",
    "for i in range(len(files_npy)):\n",
    "    beta_local, nu_local, t_local, t_initial_local, dt_local = re.search(r'beta(\\d+\\.\\d+)nu(\\d+e-\\d+)t(\\d+)initial(\\d+)dt(\\d+\\.\\d+)', files_npy[i]).groups()\n",
    "    perturbed_dim_local = re.search(r'perturbed_dim(\\d+)', files_npy[i]).group(1)\n",
    "    # パラメータが一致しているか確認\n",
    "    if beta_local != beta or nu_local != nu or t_local != t or t_initial_local != t_initial or dt_local != dt or perturbed_dim_local != perturbed_dim:\n",
    "        print(\"Parameter is not matched\")\n",
    "        continue\n",
    "    repetition_local = int(re.search(r'repeat(\\d+)', files_npy[i]).group(1))\n",
    "    repetition += repetition_local\n",
    "    average += np.load(directory + files_npy[i])[0, ] * repetition_local\n",
    "    \n",
    "average /= repetition\n",
    "error_growth = (np.log(average[2:, ]) - np.log(average[:-2, ])) / (2*float(dt))\n",
    "\n",
    "arr = np.array([average[1:-1], error_growth, time[1:-1]])\n",
    "# 保存\n",
    "np.save(\"../error_growth/linear_beta\" + beta + \"nu\" + nu + \"t\" + t + \"initial\" + t_initial + \"dt\" + dt + \"repeat\" + str(repetition) + \"perturbed_dim\" + perturbed_dim + \".npy\", arr)\n",
    "    "
   ]
  }
 ],
 "metadata": {
  "kernelspec": {
   "display_name": "base",
   "language": "python",
   "name": "python3"
  },
  "language_info": {
   "codemirror_mode": {
    "name": "ipython",
    "version": 3
   },
   "file_extension": ".py",
   "mimetype": "text/x-python",
   "name": "python",
   "nbconvert_exporter": "python",
   "pygments_lexer": "ipython3",
   "version": "3.6.8"
  }
 },
 "nbformat": 4,
 "nbformat_minor": 2
}
