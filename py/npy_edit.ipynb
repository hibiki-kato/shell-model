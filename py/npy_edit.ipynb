{
 "cells": [
  {
   "cell_type": "code",
   "execution_count": 2,
   "metadata": {},
   "outputs": [],
   "source": [
    "import numpy as np\n",
    "import matplotlib.pyplot as plt\n",
    "import os\n",
    "import sys\n",
    "import re"
   ]
  },
  {
   "cell_type": "code",
   "execution_count": 3,
   "metadata": {},
   "outputs": [
    {
     "data": {
      "text/plain": [
       "array([ 4.99989997e-001+4.99992628e-001j,\n",
       "        3.93937589e-005-2.37842167e-005j,\n",
       "       -1.06333771e-005-4.48296526e-005j,\n",
       "       -9.05665633e-006+3.57573185e-006j,\n",
       "        3.58846651e-006+8.68882329e-006j,\n",
       "       -2.29443388e-006+3.59260752e-007j,\n",
       "        6.69337618e-006-9.33141627e-006j,\n",
       "       -8.90676239e-006+4.73326220e-007j,\n",
       "        3.33290752e-006-9.73094887e-006j,\n",
       "       -2.46299888e-006-8.89722022e-006j,\n",
       "       -8.75853382e-007+3.67631230e-006j,\n",
       "        1.76678761e-006+7.28178306e-006j,\n",
       "        5.20686714e-006+2.44713653e-006j,\n",
       "       -6.74470197e-006+3.05989939e-006j,\n",
       "       -5.91389794e-006+4.08342395e-006j,\n",
       "        1.57931616e-006-4.27239331e-006j,\n",
       "       -1.71428703e-006-2.85554470e-006j,\n",
       "        1.19772907e-006+7.82886246e-007j,\n",
       "        2.21539526e-007+2.70445426e-008j,\n",
       "       -4.24480876e-009-5.18524394e-009j,\n",
       "        1.25803844e-011+7.76287233e-012j,\n",
       "        4.74956792e-016+6.45814982e-017j,\n",
       "       -1.07879184e-023-1.31294639e-023j,\n",
       "        8.28486301e-036+5.10788676e-036j,\n",
       "        9.77728541e-056+1.33151339e-056j,\n",
       "       -1.81782441e-088-2.21226235e-088j,\n",
       "        3.58435331e-141+2.20984056e-141j,\n",
       "        8.90149812e-227+1.21227414e-227j,\n",
       "       -2.47032823e-323-2.47032823e-323j])"
      ]
     },
     "execution_count": 3,
     "metadata": {},
     "output_type": "execute_result"
    }
   ],
   "source": [
    "a = np.load('../initials/beta0.5_nu1e-10_29dim.npy')\n",
    "# plt.plot(abs(a[0, :]), abs(a[1, :]))\n",
    "a"
   ]
  },
  {
   "cell_type": "markdown",
   "metadata": {},
   "source": [
    "## error_growthのnpyの結合"
   ]
  },
  {
   "cell_type": "code",
   "execution_count": 3,
   "metadata": {},
   "outputs": [],
   "source": [
    "# \"../error_growth/assemble/\" から.npyファイルを全て読み込む\n",
    "directory = \"../error_growth/assemble/\"\n",
    "files = os.listdir(directory)\n",
    "files_file = [f for f in files if os.path.isfile(os.path.join(directory, f))]\n",
    "files_npy = [f for f in files_file if f[-4:] == '.npy']\n",
    "\n",
    "# ファイル名からパラメータを取得\n",
    "beta, nu, t, t_initial, dt = re.search(r'beta(\\d+\\.\\d+)nu(\\d+e-\\d+)t(\\d+)initial(\\d+)dt(\\d+\\.\\d+)', files_npy[0]).groups()\n",
    "perturbed_dim = re.search(r'perturbed_dim(\\d+)', files_npy[0]).group(1)\n",
    "repetition = 0\n",
    "time = np.load(directory + files_npy[0])[1,]\n",
    "average = np.zeros_like(time)\n",
    "\n",
    "# ファイルを読み込んで平均を取る\n",
    "for i in range(len(files_npy)):\n",
    "    beta_local, nu_local, t_local, t_initial_local, dt_local = re.search(r'beta(\\d+\\.\\d+)nu(\\d+e-\\d+)t(\\d+)initial(\\d+)dt(\\d+\\.\\d+)', files_npy[i]).groups()\n",
    "    perturbed_dim_local = re.search(r'perturbed_dim(\\d+)', files_npy[i]).group(1)\n",
    "    # パラメータが一致しているか確認\n",
    "    if beta_local != beta or nu_local != nu or t_local != t or t_initial_local != t_initial or dt_local != dt or perturbed_dim_local != perturbed_dim:\n",
    "        print(\"Parameter is not matched\")\n",
    "        continue\n",
    "    repetition_local = int(re.search(r'repeat(\\d+)', files_npy[i]).group(1))\n",
    "    repetition += repetition_local\n",
    "    average += np.load(directory + files_npy[i])[0, ] * repetition_local\n",
    "    \n",
    "average /= repetition\n",
    "error_growth = (np.log(average[2:, ]) - np.log(average[:-2, ])) / (2*float(dt))\n",
    "\n",
    "arr = np.array([average[1:-1], error_growth, time[1:-1]])\n",
    "# 保存\n",
    "np.save(\"../error_growth/linear_beta\" + beta + \"nu\" + nu + \"t\" + t + \"initial\" + t_initial + \"dt\" + dt + \"repeat\" + str(repetition) + \"perturbed_dim\" + perturbed_dim + \".npy\", arr)\n",
    "    "
   ]
  }
 ],
 "metadata": {
  "kernelspec": {
   "display_name": "base",
   "language": "python",
   "name": "python3"
  },
  "language_info": {
   "codemirror_mode": {
    "name": "ipython",
    "version": 3
   },
   "file_extension": ".py",
   "mimetype": "text/x-python",
   "name": "python",
   "nbconvert_exporter": "python",
   "pygments_lexer": "ipython3",
   "version": "3.12.1"
  }
 },
 "nbformat": 4,
 "nbformat_minor": 2
}
